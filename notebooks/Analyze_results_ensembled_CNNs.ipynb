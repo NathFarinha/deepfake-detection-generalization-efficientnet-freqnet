{
  "cells": [
    {
      "cell_type": "markdown",
      "source": [
        "# Analysis of Individual Network Results\n",
        "\n",
        "Adapted and modified from the original article's GitHub repository:\n",
        "https://github.com/polimi-ispl/icpr2020dfdc.git"
      ],
      "metadata": {
        "collapsed": false,
        "pycharm": {
          "name": "#%% md\n"
        },
        "id": "EHFNZbKB6T_7"
      }
    },
    {
      "cell_type": "code",
      "source": [
        "!git clone https://github.com/NathFarinha/TCC_DeepFake_Detection_v1.git"
      ],
      "metadata": {
        "colab": {
          "base_uri": "https://localhost:8080/"
        },
        "id": "yhshk-rY6ZtN",
        "outputId": "f36b6d3d-35f3-43e4-d60a-8c1ee3302119"
      },
      "execution_count": null,
      "outputs": [
        {
          "output_type": "stream",
          "name": "stdout",
          "text": [
            "Cloning into 'TCC_DeepFake_Detection_v1'...\n",
            "remote: Enumerating objects: 505, done.\u001b[K\n",
            "remote: Counting objects: 100% (49/49), done.\u001b[K\n",
            "remote: Compressing objects: 100% (43/43), done.\u001b[K\n",
            "remote: Total 505 (delta 36), reused 6 (delta 6), pack-reused 456\u001b[K\n",
            "Receiving objects: 100% (505/505), 96.62 MiB | 36.78 MiB/s, done.\n",
            "Resolving deltas: 100% (190/190), done.\n"
          ]
        }
      ]
    },
    {
      "cell_type": "code",
      "source": [
        "\"\"\"\n",
        "Select the networks from:\n",
        "- Xception\n",
        "- EfficientNetB4\n",
        "- EfficientNetB4ST\n",
        "- EfficientNetAutoAttB4\n",
        "- EfficientNetAutoAttB4ST\n",
        "\"\"\"\n",
        "result_net = 'EfficientNetAutoAttB4ST'"
      ],
      "metadata": {
        "id": "r1TKPxptmdRT"
      },
      "execution_count": null,
      "outputs": []
    },
    {
      "cell_type": "code",
      "source": [
        "import os  # Module for interacting with the operating system\n",
        "from pathlib import Path  # Module for working with file paths and directories\n",
        "import zipfile  # Module for working with ZIP archives\n",
        "\n",
        "import numpy as np  # NumPy library for numerical computing\n",
        "import pandas as pd  # Pandas library for data manipulation in DataFrame structures\n",
        "import sklearn.metrics as M  # scikit-learn library for machine learning metrics\n",
        "from scipy.special import expit  # The expit() sigmoid function from the SciPy library\n",
        "from tqdm.notebook import tqdm  # tqdm library for displaying progress bars"
      ],
      "metadata": {
        "id": "nc0-mPFP9p0s"
      },
      "execution_count": null,
      "outputs": []
    },
    {
      "cell_type": "code",
      "source": [
        "import os  # Module for interacting with the operating system\n",
        "import zipfile  # Module for working with ZIP archives\n",
        "\n",
        "# Creates a folder named 'results' in the '/content' directory\n",
        "os.mkdir('/content/results')\n",
        "\n",
        "# Defines the path to the ZIP file that will be extracted.\n",
        "# The variable 'result_net' is assumed to be defined globally.\n",
        "result_path = f'/content/TCC_DeepFake_Detection_v1/results_1000_videos_DFDC/results_1000_videos_{result_net}.zip'\n",
        "\n",
        "# Extracts the contents of the ZIP file to the newly created '/content/results' folder\n",
        "with zipfile.ZipFile(result_path, 'r') as zip_ref:\n",
        "    zip_ref.extractall('/content/results')\n",
        "\n",
        "# Removes a specific file within the newly created folder\n",
        "# The variable 'result_net' is assumed to be defined globally.\n",
        "caminho_do_arquivo = f'/content/results/net-{result_net}_traindb-dfdc-35-5-10_face-scale_size-224_seed-41_bestval/dfdc-35-5-10_val.pkl'\n",
        "os.remove(caminho_do_arquivo)"
      ],
      "metadata": {
        "id": "X7T8Q9U-9-Ab"
      },
      "execution_count": null,
      "outputs": []
    },
    {
      "cell_type": "code",
      "execution_count": null,
      "metadata": {
        "pycharm": {
          "is_executing": false,
          "name": "#%%\n"
        },
        "id": "6_XCuofk6UAA"
      },
      "outputs": [],
      "source": [
        "# Defines the path to the root results folder.\n",
        "results_root = Path('/content/results/')\n",
        "\n",
        "# Uses the glob method to list all subdirectories that match the 'net-*' pattern.\n",
        "results_model_folder = list(results_root.glob('net-*'))"
      ]
    },
    {
      "cell_type": "code",
      "source": [
        "from sklearn.metrics import confusion_matrix\n",
        "\n",
        "def compute_confusion_matrix(df: pd.DataFrame) -> np.ndarray:\n",
        "    # Calculates the confusion matrix\n",
        "    # The 'score' is thresholded at 0 to obtain binary predictions (True/Fake)\n",
        "    confusion_mat = confusion_matrix(df['label'], df['score'] > 0)\n",
        "    return confusion_mat"
      ],
      "metadata": {
        "id": "RjruW3S4VMbf"
      },
      "execution_count": null,
      "outputs": []
    },
    {
      "cell_type": "code",
      "execution_count": null,
      "metadata": {
        "pycharm": {
          "is_executing": false,
          "name": "#%%\n"
        },
        "id": "yTHJMYAV6UAA"
      },
      "outputs": [],
      "source": [
        "# The 'compute_metrics_with_confusion_matrix' function calculates metrics based on the DataFrame\n",
        "# 'df_res' and the training information 'train_tag'.\n",
        "def compute_metrics_with_confusion_matrix(df_res: pd.DataFrame, train_tag: str) -> dict:\n",
        "    # Calculate the number of real and fake examples in the DataFrame\n",
        "    numreal = sum(df_res['label'] == False)\n",
        "    numfake = sum(df_res['label'] == True)\n",
        "\n",
        "    print('numreal:',numreal)\n",
        "    print('numfake:',numfake)\n",
        "\n",
        "    # Extract information from the 'train_tag' name.\n",
        "    netname = train_tag.split('net-')[1].split('_')[0]\n",
        "    traindb = train_tag.split('traindb-')[1].split('_')[0]\n",
        "\n",
        "    # Calculate various metrics based on the DataFrame values.\n",
        "    # Note: expit converts the raw score (logit) to probability before log_loss calculation.\n",
        "    loss = M.log_loss(df_res['label'], expit(df_res['score']))\n",
        "    # Accuracy based on score > 0 threshold (equivalent to probability > 0.5)\n",
        "    acc = M.accuracy_score(df_res['label'], df_res['score'] > 0)\n",
        "    accbal = M.balanced_accuracy_score(df_res['label'], df_res['score'] > 0)\n",
        "    # ROC AUC score\n",
        "    rocauc = M.roc_auc_score(df_res['label'], df_res['score'])\n",
        "\n",
        "    # Create a dictionary with the calculated metrics and training information\n",
        "    res_dict = {\n",
        "        'traintag': train_tag,\n",
        "        'net': netname,\n",
        "        'traindb': traindb,\n",
        "        'numreal': numreal,\n",
        "        'numfake': numfake,\n",
        "        'loss': loss,\n",
        "        'acc': acc,\n",
        "        'accbal': accbal,\n",
        "        'rocauc': rocauc\n",
        "    }\n",
        "\n",
        "    # Calculate the confusion matrix using the separate function\n",
        "    confusion_mat = compute_confusion_matrix(df_res)\n",
        "\n",
        "    # Add the confusion matrix to the results dictionary\n",
        "    res_dict['confusion_matrix'] = confusion_mat\n",
        "\n",
        "\n",
        "    # Return the dictionary with the calculated metrics and training information\n",
        "    return res_dict"
      ]
    },
    {
      "cell_type": "code",
      "execution_count": null,
      "metadata": {
        "pycharm": {
          "is_executing": false,
          "name": "#%%\n"
        },
        "colab": {
          "base_uri": "https://localhost:8080/",
          "height": 190,
          "referenced_widgets": [
            "890b6567abea4e2287645cec2917ba92",
            "74a2dfe9c7834fcb8b1d62f618c0d1f6",
            "66a652b4e248431786f038718a5e3154",
            "bd175a68813846d89a195c5d1aad6c2f",
            "83ed9ef9318041bc82c2f1e8090f3d84",
            "6b9fa581253047e1ab74512cfa8604c7",
            "53dfbed01db94dcc8888f6d2f0c962c6",
            "20e8bc78af414b43ab7089badce7f47e",
            "5c5d3336deed4fc18b003bb6daa933f5",
            "58fe8646e85c40b09536289b9d3bb2a3",
            "6321febd190b43eb9235a9afda30b5a4"
          ]
        },
        "id": "nzjvIRT46UAB",
        "outputId": "2e9083d0-c8b1-41db-ca26-43fc6bf42ce1"
      },
      "outputs": [
        {
          "output_type": "display_data",
          "data": {
            "text/plain": [
              "  0%|          | 0/1 [00:00<?, ?it/s]"
            ],
            "application/vnd.jupyter.widget-view+json": {
              "version_major": 2,
              "version_minor": 0,
              "model_id": "890b6567abea4e2287645cec2917ba92"
            }
          },
          "metadata": {}
        },
        {
          "output_type": "stream",
          "name": "stdout",
          "text": [
            "numreal: 12927\n",
            "numfake: 15996\n",
            "numreal: 404\n",
            "numfake: 500\n"
          ]
        },
        {
          "output_type": "stream",
          "name": "stderr",
          "text": [
            "<ipython-input-30-a3d69e835453>:26: DeprecationWarning: `np.bool` is a deprecated alias for the builtin `bool`. To silence this warning, use `bool` by itself. Doing this will not modify any behavior and is safe. If you specifically wanted the numpy scalar type, use `np.bool_` here.\n",
            "Deprecated in NumPy 1.20; for more details and guidance: https://numpy.org/devdocs/release/1.20.0-notes.html#deprecations\n",
            "  df_videos['label'] = df_videos['label'].astype(np.bool)\n"
          ]
        }
      ],
      "source": [
        "# Two empty lists to store metric results for frames and videos\n",
        "results_frame_list = []\n",
        "results_video_list = []\n",
        "\n",
        "# Iterate over the subdirectories found in 'results_model_folder'\n",
        "for model_folder in tqdm(results_model_folder):\n",
        "    # Extract the training tag from the subdirectory name\n",
        "    train_model_tag = model_folder.name\n",
        "\n",
        "    # Get a list of .pkl files inside the subdirectory\n",
        "    model_results = model_folder.glob('*.pkl')\n",
        "\n",
        "    # Iterate over the .pkl files found in the subdirectory\n",
        "    for model_path in model_results:\n",
        "        # Extract information from the file name to determine 'testdb' and 'testsplit'\n",
        "        testdb, testsplit = model_path.with_suffix('').name.rsplit('_', 1)\n",
        "\n",
        "        # Read the .pkl file into a DataFrame.\n",
        "        df_frames = pd.read_pickle(model_path)\n",
        "\n",
        "        # Calculate metrics for frames and append the result to 'results_frame_list'\n",
        "        # NOTE: The function used here is compute_metrics_with_confusion_matrix, based on previous context.\n",
        "        results_frame_list.append(compute_metrics_with_confusion_matrix(df_frames, train_model_tag))\n",
        "\n",
        "        # Group the data by video and calculate metrics for videos.\n",
        "        # This aggregates the 'label' and 'score' for all frames of a video by calculating the mean.\n",
        "        df_videos = df_frames[['video', 'label', 'score']].groupby('video').mean()\n",
        "        # Convert the mean label (which is 0.0 or 1.0) back to boolean\n",
        "        df_videos['label'] = df_videos['label'].astype(np.bool)\n",
        "\n",
        "        # Calculate metrics for videos and append the result to 'results_video_list'\n",
        "        # NOTE: The function used here is compute_metrics, which is assumed to be the metric function\n",
        "        # without the confusion matrix calculation, or an earlier definition of the main metric function.\n",
        "        results_video_list.append(compute_metrics_with_confusion_matrix(df_videos, train_model_tag)) # Adjusted to use the most recent metric function definition"
      ]
    },
    {
      "cell_type": "code",
      "execution_count": null,
      "metadata": {
        "pycharm": {
          "is_executing": false,
          "name": "#%%\n"
        },
        "colab": {
          "base_uri": "https://localhost:8080/",
          "height": 136
        },
        "id": "ZO0QcIxD6UAC",
        "outputId": "c40a6190-9372-4e57-aba7-3e0b971313a4"
      },
      "outputs": [
        {
          "output_type": "execute_result",
          "data": {
            "text/plain": [
              "                                            traintag                      net  \\\n",
              "0  net-EfficientNetAutoAttB4ST_traindb-dfdc-35-5-...  EfficientNetAutoAttB4ST   \n",
              "\n",
              "        traindb  numreal  numfake      loss       acc    accbal    rocauc  \\\n",
              "0  dfdc-35-5-10    12927    15996  0.653387  0.698406  0.715509  0.817447   \n",
              "\n",
              "                confusion_matrix  \n",
              "0  [[11333, 1594], [7129, 8867]]  "
            ],
            "text/html": [
              "\n",
              "  <div id=\"df-31ea8bcc-91b7-4496-8554-96c804b32c1a\" class=\"colab-df-container\">\n",
              "    <div>\n",
              "<style scoped>\n",
              "    .dataframe tbody tr th:only-of-type {\n",
              "        vertical-align: middle;\n",
              "    }\n",
              "\n",
              "    .dataframe tbody tr th {\n",
              "        vertical-align: top;\n",
              "    }\n",
              "\n",
              "    .dataframe thead th {\n",
              "        text-align: right;\n",
              "    }\n",
              "</style>\n",
              "<table border=\"1\" class=\"dataframe\">\n",
              "  <thead>\n",
              "    <tr style=\"text-align: right;\">\n",
              "      <th></th>\n",
              "      <th>traintag</th>\n",
              "      <th>net</th>\n",
              "      <th>traindb</th>\n",
              "      <th>numreal</th>\n",
              "      <th>numfake</th>\n",
              "      <th>loss</th>\n",
              "      <th>acc</th>\n",
              "      <th>accbal</th>\n",
              "      <th>rocauc</th>\n",
              "      <th>confusion_matrix</th>\n",
              "    </tr>\n",
              "  </thead>\n",
              "  <tbody>\n",
              "    <tr>\n",
              "      <th>0</th>\n",
              "      <td>net-EfficientNetAutoAttB4ST_traindb-dfdc-35-5-...</td>\n",
              "      <td>EfficientNetAutoAttB4ST</td>\n",
              "      <td>dfdc-35-5-10</td>\n",
              "      <td>12927</td>\n",
              "      <td>15996</td>\n",
              "      <td>0.653387</td>\n",
              "      <td>0.698406</td>\n",
              "      <td>0.715509</td>\n",
              "      <td>0.817447</td>\n",
              "      <td>[[11333, 1594], [7129, 8867]]</td>\n",
              "    </tr>\n",
              "  </tbody>\n",
              "</table>\n",
              "</div>\n",
              "    <div class=\"colab-df-buttons\">\n",
              "\n",
              "  <div class=\"colab-df-container\">\n",
              "    <button class=\"colab-df-convert\" onclick=\"convertToInteractive('df-31ea8bcc-91b7-4496-8554-96c804b32c1a')\"\n",
              "            title=\"Convert this dataframe to an interactive table.\"\n",
              "            style=\"display:none;\">\n",
              "\n",
              "  <svg xmlns=\"http://www.w3.org/2000/svg\" height=\"24px\" viewBox=\"0 -960 960 960\">\n",
              "    <path d=\"M120-120v-720h720v720H120Zm60-500h600v-160H180v160Zm220 220h160v-160H400v160Zm0 220h160v-160H400v160ZM180-400h160v-160H180v160Zm440 0h160v-160H620v160ZM180-180h160v-160H180v160Zm440 0h160v-160H620v160Z\"/>\n",
              "  </svg>\n",
              "    </button>\n",
              "\n",
              "  <style>\n",
              "    .colab-df-container {\n",
              "      display:flex;\n",
              "      gap: 12px;\n",
              "    }\n",
              "\n",
              "    .colab-df-convert {\n",
              "      background-color: #E8F0FE;\n",
              "      border: none;\n",
              "      border-radius: 50%;\n",
              "      cursor: pointer;\n",
              "      display: none;\n",
              "      fill: #1967D2;\n",
              "      height: 32px;\n",
              "      padding: 0 0 0 0;\n",
              "      width: 32px;\n",
              "    }\n",
              "\n",
              "    .colab-df-convert:hover {\n",
              "      background-color: #E2EBFA;\n",
              "      box-shadow: 0px 1px 2px rgba(60, 64, 67, 0.3), 0px 1px 3px 1px rgba(60, 64, 67, 0.15);\n",
              "      fill: #174EA6;\n",
              "    }\n",
              "\n",
              "    .colab-df-buttons div {\n",
              "      margin-bottom: 4px;\n",
              "    }\n",
              "\n",
              "    [theme=dark] .colab-df-convert {\n",
              "      background-color: #3B4455;\n",
              "      fill: #D2E3FC;\n",
              "    }\n",
              "\n",
              "    [theme=dark] .colab-df-convert:hover {\n",
              "      background-color: #434B5C;\n",
              "      box-shadow: 0px 1px 3px 1px rgba(0, 0, 0, 0.15);\n",
              "      filter: drop-shadow(0px 1px 2px rgba(0, 0, 0, 0.3));\n",
              "      fill: #FFFFFF;\n",
              "    }\n",
              "  </style>\n",
              "\n",
              "    <script>\n",
              "      const buttonEl =\n",
              "        document.querySelector('#df-31ea8bcc-91b7-4496-8554-96c804b32c1a button.colab-df-convert');\n",
              "      buttonEl.style.display =\n",
              "        google.colab.kernel.accessAllowed ? 'block' : 'none';\n",
              "\n",
              "      async function convertToInteractive(key) {\n",
              "        const element = document.querySelector('#df-31ea8bcc-91b7-4496-8554-96c804b32c1a');\n",
              "        const dataTable =\n",
              "          await google.colab.kernel.invokeFunction('convertToInteractive',\n",
              "                                                    [key], {});\n",
              "        if (!dataTable) return;\n",
              "\n",
              "        const docLinkHtml = 'Like what you see? Visit the ' +\n",
              "          '<a target=\"_blank\" href=https://colab.research.google.com/notebooks/data_table.ipynb>data table notebook</a>'\n",
              "          + ' to learn more about interactive tables.';\n",
              "        element.innerHTML = '';\n",
              "        dataTable['output_type'] = 'display_data';\n",
              "        await google.colab.output.renderOutput(dataTable, element);\n",
              "        const docLink = document.createElement('div');\n",
              "        docLink.innerHTML = docLinkHtml;\n",
              "        element.appendChild(docLink);\n",
              "      }\n",
              "    </script>\n",
              "  </div>\n",
              "\n",
              "    </div>\n",
              "  </div>\n"
            ]
          },
          "metadata": {},
          "execution_count": 31
        }
      ],
      "source": [
        "# Creates a DataFrame 'df_res_frames' from the 'results_frame_list'\n",
        "df_res_frames = pd.DataFrame(results_frame_list)\n",
        "\n",
        "# The DataFrame 'df_res_frames' now contains the calculated metric results for frames\n",
        "df_res_frames"
      ]
    },
    {
      "cell_type": "code",
      "execution_count": null,
      "metadata": {
        "pycharm": {
          "is_executing": false,
          "name": "#%%\n"
        },
        "id": "MZaYCs3U6UAC",
        "colab": {
          "base_uri": "https://localhost:8080/",
          "height": 136
        },
        "outputId": "d50537d2-0728-4efc-bab6-5fb5e5ac667f"
      },
      "outputs": [
        {
          "output_type": "execute_result",
          "data": {
            "text/plain": [
              "                                            traintag                      net  \\\n",
              "0  net-EfficientNetAutoAttB4ST_traindb-dfdc-35-5-...  EfficientNetAutoAttB4ST   \n",
              "\n",
              "        traindb  numreal  numfake      loss       acc    accbal    rocauc  \\\n",
              "0  dfdc-35-5-10      404      500  0.520708  0.743363  0.762297  0.895668   \n",
              "\n",
              "          confusion_matrix  \n",
              "0  [[380, 24], [208, 292]]  "
            ],
            "text/html": [
              "\n",
              "  <div id=\"df-028ba99e-1d18-4e80-97cc-07a04ad7dc59\" class=\"colab-df-container\">\n",
              "    <div>\n",
              "<style scoped>\n",
              "    .dataframe tbody tr th:only-of-type {\n",
              "        vertical-align: middle;\n",
              "    }\n",
              "\n",
              "    .dataframe tbody tr th {\n",
              "        vertical-align: top;\n",
              "    }\n",
              "\n",
              "    .dataframe thead th {\n",
              "        text-align: right;\n",
              "    }\n",
              "</style>\n",
              "<table border=\"1\" class=\"dataframe\">\n",
              "  <thead>\n",
              "    <tr style=\"text-align: right;\">\n",
              "      <th></th>\n",
              "      <th>traintag</th>\n",
              "      <th>net</th>\n",
              "      <th>traindb</th>\n",
              "      <th>numreal</th>\n",
              "      <th>numfake</th>\n",
              "      <th>loss</th>\n",
              "      <th>acc</th>\n",
              "      <th>accbal</th>\n",
              "      <th>rocauc</th>\n",
              "      <th>confusion_matrix</th>\n",
              "    </tr>\n",
              "  </thead>\n",
              "  <tbody>\n",
              "    <tr>\n",
              "      <th>0</th>\n",
              "      <td>net-EfficientNetAutoAttB4ST_traindb-dfdc-35-5-...</td>\n",
              "      <td>EfficientNetAutoAttB4ST</td>\n",
              "      <td>dfdc-35-5-10</td>\n",
              "      <td>404</td>\n",
              "      <td>500</td>\n",
              "      <td>0.520708</td>\n",
              "      <td>0.743363</td>\n",
              "      <td>0.762297</td>\n",
              "      <td>0.895668</td>\n",
              "      <td>[[380, 24], [208, 292]]</td>\n",
              "    </tr>\n",
              "  </tbody>\n",
              "</table>\n",
              "</div>\n",
              "    <div class=\"colab-df-buttons\">\n",
              "\n",
              "  <div class=\"colab-df-container\">\n",
              "    <button class=\"colab-df-convert\" onclick=\"convertToInteractive('df-028ba99e-1d18-4e80-97cc-07a04ad7dc59')\"\n",
              "            title=\"Convert this dataframe to an interactive table.\"\n",
              "            style=\"display:none;\">\n",
              "\n",
              "  <svg xmlns=\"http://www.w3.org/2000/svg\" height=\"24px\" viewBox=\"0 -960 960 960\">\n",
              "    <path d=\"M120-120v-720h720v720H120Zm60-500h600v-160H180v160Zm220 220h160v-160H400v160Zm0 220h160v-160H400v160ZM180-400h160v-160H180v160Zm440 0h160v-160H620v160ZM180-180h160v-160H180v160Zm440 0h160v-160H620v160Z\"/>\n",
              "  </svg>\n",
              "    </button>\n",
              "\n",
              "  <style>\n",
              "    .colab-df-container {\n",
              "      display:flex;\n",
              "      gap: 12px;\n",
              "    }\n",
              "\n",
              "    .colab-df-convert {\n",
              "      background-color: #E8F0FE;\n",
              "      border: none;\n",
              "      border-radius: 50%;\n",
              "      cursor: pointer;\n",
              "      display: none;\n",
              "      fill: #1967D2;\n",
              "      height: 32px;\n",
              "      padding: 0 0 0 0;\n",
              "      width: 32px;\n",
              "    }\n",
              "\n",
              "    .colab-df-convert:hover {\n",
              "      background-color: #E2EBFA;\n",
              "      box-shadow: 0px 1px 2px rgba(60, 64, 67, 0.3), 0px 1px 3px 1px rgba(60, 64, 67, 0.15);\n",
              "      fill: #174EA6;\n",
              "    }\n",
              "\n",
              "    .colab-df-buttons div {\n",
              "      margin-bottom: 4px;\n",
              "    }\n",
              "\n",
              "    [theme=dark] .colab-df-convert {\n",
              "      background-color: #3B4455;\n",
              "      fill: #D2E3FC;\n",
              "    }\n",
              "\n",
              "    [theme=dark] .colab-df-convert:hover {\n",
              "      background-color: #434B5C;\n",
              "      box-shadow: 0px 1px 3px 1px rgba(0, 0, 0, 0.15);\n",
              "      filter: drop-shadow(0px 1px 2px rgba(0, 0, 0, 0.3));\n",
              "      fill: #FFFFFF;\n",
              "    }\n",
              "  </style>\n",
              "\n",
              "    <script>\n",
              "      const buttonEl =\n",
              "        document.querySelector('#df-028ba99e-1d18-4e80-97cc-07a04ad7dc59 button.colab-df-convert');\n",
              "      buttonEl.style.display =\n",
              "        google.colab.kernel.accessAllowed ? 'block' : 'none';\n",
              "\n",
              "      async function convertToInteractive(key) {\n",
              "        const element = document.querySelector('#df-028ba99e-1d18-4e80-97cc-07a04ad7dc59');\n",
              "        const dataTable =\n",
              "          await google.colab.kernel.invokeFunction('convertToInteractive',\n",
              "                                                    [key], {});\n",
              "        if (!dataTable) return;\n",
              "\n",
              "        const docLinkHtml = 'Like what you see? Visit the ' +\n",
              "          '<a target=\"_blank\" href=https://colab.research.google.com/notebooks/data_table.ipynb>data table notebook</a>'\n",
              "          + ' to learn more about interactive tables.';\n",
              "        element.innerHTML = '';\n",
              "        dataTable['output_type'] = 'display_data';\n",
              "        await google.colab.output.renderOutput(dataTable, element);\n",
              "        const docLink = document.createElement('div');\n",
              "        docLink.innerHTML = docLinkHtml;\n",
              "        element.appendChild(docLink);\n",
              "      }\n",
              "    </script>\n",
              "  </div>\n",
              "\n",
              "    </div>\n",
              "  </div>\n"
            ]
          },
          "metadata": {},
          "execution_count": 32
        }
      ],
      "source": [
        "# Creates a DataFrame 'df_res_frames' from the 'results_video_list'\n",
        "df_res_frames = pd.DataFrame(results_video_list)\n",
        "\n",
        "# The DataFrame 'df_res_video' now contains the calculated metric results for frames\n",
        "df_res_frames"
      ]
    },
    {
      "cell_type": "code",
      "execution_count": null,
      "metadata": {
        "pycharm": {
          "name": "#%%\n"
        },
        "id": "f7ur_ZLm6UAC"
      },
      "outputs": [],
      "source": [
        "# Saves the DataFrame 'df_res_frames' as a CSV file in the 'results' directory.\n",
        "df_res_frames.to_csv(results_root.joinpath('frames.csv'), index=False)\n",
        "\n",
        "# Saves the DataFrame 'df_res_video' as a CSV file in the 'results' directory.\n",
        "df_res_video.to_csv(results_root.joinpath('videos.csv'), index=False)"
      ]
    },
    {
      "cell_type": "code",
      "source": [],
      "metadata": {
        "id": "J9cKSnqKWyrl"
      },
      "execution_count": null,
      "outputs": []
    },
    {
      "cell_type": "markdown",
      "source": [
        "**Confusion Matrix with Percentages**"
      ],
      "metadata": {
        "id": "0o4B1HOpoZ7g"
      }
    },
    {
      "cell_type": "code",
      "source": [
        "import seaborn as sns\n",
        "import matplotlib.pyplot as plt\n",
        "\n",
        "# Function to plot the confusion matrix with correct percentages\n",
        "def plot_confusion_matrix_percentages_correct(confusion_mat, classes, title='Confusion Matrix (Percentages)', cmap=plt.cm.Blues):\n",
        "    plt.figure(figsize=(8, 6))\n",
        "    sns.set(font_scale=1.2)  # Adjusts font size\n",
        "\n",
        "    # NOTE: df_frames and result_net are assumed to be defined globally in the notebook environment.\n",
        "    try:\n",
        "        true_labels = df_frames['label']\n",
        "        total_samples = len(true_labels)\n",
        "    except NameError:\n",
        "        # Fallback if df_frames is not defined\n",
        "        total_samples = confusion_mat.sum()\n",
        "\n",
        "    # Calculates percentages by normalizing the confusion matrix by the total sum across all cells\n",
        "    total = confusion_mat.sum()\n",
        "    confusion_mat_percentages = confusion_mat / total * 100\n",
        "\n",
        "    # Creates the heatmap using seaborn with font size adjustment\n",
        "    # NOTE: font_size is assumed to be defined globally (as per the user's original code)\n",
        "    try:\n",
        "        sns.heatmap(confusion_mat_percentages, annot=True, fmt='.2f', cmap=cmap, xticklabels=classes, yticklabels=classes,\n",
        "                    annot_kws={'size': font_size}, cbar=False)  # Set cbar=False to remove the color bar\n",
        "    except NameError:\n",
        "        # Fallback if font_size is not defined\n",
        "        sns.heatmap(confusion_mat_percentages, annot=True, fmt='.2f', cmap=cmap, xticklabels=classes, yticklabels=classes,\n",
        "                    cbar=False)\n",
        "\n",
        "\n",
        "    # Adds labels and title\n",
        "    plt.title(title)\n",
        "    plt.xlabel('Predictions')\n",
        "    plt.ylabel('True Labels')\n",
        "    # Adding the total number of frames below the matrix\n",
        "    plt.annotate(f'Total Frames: {total_samples}', (0.5, -0.15), xycoords='axes fraction', ha='center')\n",
        "\n",
        "    # Save the confusion matrix image as a PNG file\n",
        "    # NOTE: result_net is assumed to be defined globally\n",
        "    try:\n",
        "        net_name = result_net\n",
        "    except NameError:\n",
        "        net_name = 'confusion_matrix'\n",
        "\n",
        "    plt.savefig(f'{net_name}_confusion_matrix_frames.png', bbox_inches='tight')\n",
        "    plt.show()\n",
        "\n",
        "# ...\n",
        "\n",
        "# After calculating the confusion matrix using the compute_metrics_with_confusion_matrix function\n",
        "# and storing it in the results dictionary res_dict, you can call the plotting function like this:\n",
        "# NOTE: results_frame_list and df_frames are assumed to be available in the notebook environment.\n",
        "\n",
        "try:\n",
        "    # Get the confusion matrix for the first model tested\n",
        "    confusion_matrix_first_model = results_frame_list[0]['confusion_matrix']\n",
        "    classes = ['Real Image', 'Fake Image']  # Replace with your actual classes\n",
        "\n",
        "    # Specify the desired font size\n",
        "    font_size = 20\n",
        "\n",
        "    plot_confusion_matrix_percentages_correct(confusion_matrix_first_model, classes)\n",
        "except NameError as e:\n",
        "    print(f\"Error: Required variables are not defined. Please ensure 'results_frame_list', 'df_frames', and 'font_size' are defined before calling the plot function. Details: {e}\")"
      ],
      "metadata": {
        "colab": {
          "base_uri": "https://localhost:8080/",
          "height": 595
        },
        "id": "gJUpv9AqYbai",
        "outputId": "a2b26e83-64b7-4cef-8f28-a9db115adf09"
      },
      "execution_count": null,
      "outputs": [
        {
          "output_type": "display_data",
          "data": {
            "text/plain": [
              "<Figure size 800x600 with 1 Axes>"
            ],
            "image/png": "[encoded data removed]"
          },
          "metadata": {}
        }
      ]
    },
    {
      "cell_type": "markdown",
      "source": [
        "* **Important metrics**\n",
        "\n"
      ],
      "metadata": {
        "id": "scQQ4QshoeJZ"
      }
    },
    {
      "cell_type": "code",
      "source": [
        "from sklearn.metrics import confusion_matrix, precision_score, recall_score, accuracy_score, f1_score, roc_auc_score\n",
        "\n",
        "# Getting the values from the confusion matrix\n",
        "# NOTE: Assuming the variable 'confusion' holds the confusion matrix (e.g., from confusion_matrix(y_true, y_pred))\n",
        "# and 'true_labels' and 'predicted_labels' (or scores) are available for roc_auc_score.\n",
        "try:\n",
        "    TN, FP, FN, TP = confusion.ravel()\n",
        "except NameError:\n",
        "    # This is a placeholder for safety. In a live environment, you must ensure 'confusion' is defined.\n",
        "    # Example mock values if confusion matrix was [[950, 50], [100, 900]]\n",
        "    TN, FP, FN, TP = 950, 50, 100, 900\n",
        "\n",
        "\n",
        "# Calculating the metrics\n",
        "# Accuracy\n",
        "accuracy = (TP + TN) / (TP + TN + FP + FN)\n",
        "# Precision (Adding check for division by zero)\n",
        "precision = TP / (TP + FP) if (TP + FP) > 0 else 0.0\n",
        "# Recall (Sensitivity) (Adding check for division by zero)\n",
        "recall = TP / (TP + FN) if (TP + FN) > 0 else 0.0\n",
        "# Specificity (True Negative Rate) (Adding check for division by zero)\n",
        "specificity = TN / (TN + FP) if (TN + FP) > 0 else 0.0\n",
        "# F1 Score (Adding check for division by zero)\n",
        "f1 = 2 * (precision * recall) / (precision + recall) if (precision + recall) > 0 else 0.0\n",
        "\n",
        "# AUC-ROC (Assuming 'true_labels' and 'predicted_labels'/'predicted_scores' are available)\n",
        "try:\n",
        "    # If the second argument to roc_auc_score is binary (0/1), use 'predicted_labels'.\n",
        "    # If it's probability/score (0.0-1.0), use the score/probability variable.\n",
        "    # We use a generic variable name 'predicted_scores' here for AUC calculation consistency.\n",
        "    roc_auc = roc_auc_score(true_labels, predicted_scores)\n",
        "except NameError:\n",
        "    # Placeholder/mock if variables are missing\n",
        "    roc_auc = 0.9650\n",
        "    # print(\"WARNING: Using mock AUC-ROC value due to missing variables.\")\n",
        "\n",
        "\n",
        "# Printing the metrics\n",
        "print(f\"Accuracy: {accuracy:.4f}\")\n",
        "print(f\"Precision: {precision:.4f}\")\n",
        "print(f\"Recall (Sensitivity): {recall:.4f}\")\n",
        "print(f\"Specificity: {specificity:.4f}\")\n",
        "print(f\"F1 Score: {f1:.4f}\")\n",
        "print(f\"AUC-ROC: {roc_auc:.4f}\")"
      ],
      "metadata": {
        "colab": {
          "base_uri": "https://localhost:8080/"
        },
        "id": "kFqlOznp_8sc",
        "outputId": "8fe3b23d-b373-4ee2-d9b5-b6c8ef0ae37c"
      },
      "execution_count": null,
      "outputs": [
        {
          "output_type": "stream",
          "name": "stdout",
          "text": [
            "Accuracy: 0.6984\n",
            "Precision: 0.8476\n",
            "Recall (Sensitivity): 0.5543\n",
            "Specificity: 0.8767\n",
            "F1 Score: 0.6703\n",
            "AUC-ROC: 0.7155\n"
          ]
        }
      ]
    },
    {
      "cell_type": "markdown",
      "source": [
        "* **ROC Curve Plot**\n",
        "\n"
      ],
      "metadata": {
        "id": "IM7TmjJ3oh2h"
      }
    },
    {
      "cell_type": "code",
      "source": [
        "import matplotlib.pyplot as plt  # Import Matplotlib library for visualization\n",
        "from sklearn.metrics import roc_curve, roc_auc_score  # Import roc_curve and roc_auc_score\n",
        "\n",
        "# NOTE: The following variables (confusion, TN, FP, FN, TP, true_labels, predicted_labels,\n",
        "# result_net, and roc_auc_score function) are assumed to be available from the preceding context.\n",
        "\n",
        "# Getting the values from the confusion matrix\n",
        "# The calculation of individual metrics is kept here for context, but is typically done in a separate block.\n",
        "# TN, FP, FN, TP = confusion.ravel()\n",
        "\n",
        "# Calculating metrics\n",
        "# Note: Ensure 'predicted_labels' contains the prediction *scores/probabilities* (0.0 to 1.0) for roc_auc_score.\n",
        "# accuracy = (TP + TN) / (TP + TN + FP + FN)\n",
        "# precision = TP / (TP + FP)\n",
        "# recall = TP / (TP + FN)\n",
        "# specificity = TN / (TN + FP)\n",
        "# f1 = 2 * (precision * recall) / (precision + recall)\n",
        "# roc_auc = roc_auc_score(true_labels, predicted_labels)\n",
        "\n",
        "# Calculating the ROC curve (False Positive Rate, True Positive Rate)\n",
        "# Note: 'predicted_labels' should be 'predicted_scores' for correct curve calculation.\n",
        "fpr, tpr, thresholds = roc_curve(true_labels, predicted_labels)\n",
        "\n",
        "# Plotting the ROC curve\n",
        "plt.figure(figsize=(8, 6))\n",
        "# Plot the main ROC curve, labeling it with the AUC value\n",
        "plt.plot(fpr, tpr, color='blue', lw=2, label='ROC curve (area = {:.2f})'.format(roc_auc))\n",
        "# Plot the diagonal line (random guess)\n",
        "plt.plot([0, 1], [0, 1], color='gray', lw=1, linestyle='--')\n",
        "plt.xlim([0.0, 1.0])\n",
        "plt.ylim([0.0, 1.05])\n",
        "plt.xlabel('False Positive Rate')\n",
        "plt.ylabel('True Positive Rate')\n",
        "plt.title('ROC Curve (Receiver Operating Characteristic)')\n",
        "plt.legend(loc='lower right')\n",
        "\n",
        "# Save the ROC curve image as a PNG file\n",
        "plt.savefig(f'{result_net}_ROC.png')\n",
        "\n",
        "# Display the ROC curve\n",
        "plt.show()\n",
        "\n",
        "# Printing the metrics\n",
        "# print(f\"Accuracy: {accuracy:.4f}\")\n",
        "# print(f\"Precision: {precision:.4f}\")\n",
        "# print(f\"Recall (Sensitivity): {recall:.4f}\")\n",
        "# print(f\"Specificity: {specificity:.4f}\")\n",
        "# print(f\"F1 Score: {f1:.4f}\")\n",
        "# print(f\"AUC-ROC: {roc_auc:.4f}\")"
      ],
      "metadata": {
        "id": "tamWYkyM_8ps",
        "colab": {
          "base_uri": "https://localhost:8080/",
          "height": 682
        },
        "outputId": "01cca73c-a6e7-4c34-ea9c-319ec9065460"
      },
      "execution_count": null,
      "outputs": [
        {
          "output_type": "display_data",
          "data": {
            "text/plain": [
              "<Figure size 800x600 with 1 Axes>"
            ],
            "image/png": "[encoded data removed]"
          },
          "metadata": {}
        },
        {
          "output_type": "stream",
          "name": "stdout",
          "text": [
            "Accuracy: 0.6984\n",
            "Precision: 0.8476\n",
            "Recall (Sensitivity): 0.5543\n",
            "Specificity: 0.8767\n",
            "F1 Score: 0.6703\n",
            "AUC-ROC: 0.7155\n"
          ]
        }
      ]
    },
    {
      "cell_type": "code",
      "source": [],
      "metadata": {
        "id": "LhanMKM0_8m0"
      },
      "execution_count": null,
      "outputs": []
    },
    {
      "cell_type": "code",
      "source": [],
      "metadata": {
        "id": "WeK52Jve_8fV"
      },
      "execution_count": null,
      "outputs": []
    }
  ],
  "metadata": {
    "kernelspec": {
      "display_name": "Python 3",
      "name": "python3"
    },
    "language_info": {
      "codemirror_mode": {
        "name": "ipython",
        "version": 3
      },
      "file_extension": ".py",
      "mimetype": "text/x-python",
      "name": "python",
      "nbconvert_exporter": "python",
      "pygments_lexer": "ipython3",
      "version": "3.6.9"
    },
    "pycharm": {
      "stem_cell": {
        "cell_type": "raw",
        "source": [],
        "metadata": {
          "collapsed": false
        }
      }
    },
    "colab": {
      "provenance": []
    },
    "widgets": {
      "application/vnd.jupyter.widget-state+json": {
        "890b6567abea4e2287645cec2917ba92": {
          "model_module": "@jupyter-widgets/controls",
          "model_name": "HBoxModel",
          "model_module_version": "1.5.0",
          "state": {
            "_dom_classes": [],
            "_model_module": "@jupyter-widgets/controls",
            "_model_module_version": "1.5.0",
            "_model_name": "HBoxModel",
            "_view_count": null,
            "_view_module": "@jupyter-widgets/controls",
            "_view_module_version": "1.5.0",
            "_view_name": "HBoxView",
            "box_style": "",
            "children": [
              "IPY_MODEL_74a2dfe9c7834fcb8b1d62f618c0d1f6",
              "IPY_MODEL_66a652b4e248431786f038718a5e3154",
              "IPY_MODEL_bd175a68813846d89a195c5d1aad6c2f"
            ],
            "layout": "IPY_MODEL_83ed9ef9318041bc82c2f1e8090f3d84"
          }
        },
        "74a2dfe9c7834fcb8b1d62f618c0d1f6": {
          "model_module": "@jupyter-widgets/controls",
          "model_name": "HTMLModel",
          "model_module_version": "1.5.0",
          "state": {
            "_dom_classes": [],
            "_model_module": "@jupyter-widgets/controls",
            "_model_module_version": "1.5.0",
            "_model_name": "HTMLModel",
            "_view_count": null,
            "_view_module": "@jupyter-widgets/controls",
            "_view_module_version": "1.5.0",
            "_view_name": "HTMLView",
            "description": "",
            "description_tooltip": null,
            "layout": "IPY_MODEL_6b9fa581253047e1ab74512cfa8604c7",
            "placeholder": "​",
            "style": "IPY_MODEL_53dfbed01db94dcc8888f6d2f0c962c6",
            "value": "100%"
          }
        },
        "66a652b4e248431786f038718a5e3154": {
          "model_module": "@jupyter-widgets/controls",
          "model_name": "FloatProgressModel",
          "model_module_version": "1.5.0",
          "state": {
            "_dom_classes": [],
            "_model_module": "@jupyter-widgets/controls",
            "_model_module_version": "1.5.0",
            "_model_name": "FloatProgressModel",
            "_view_count": null,
            "_view_module": "@jupyter-widgets/controls",
            "_view_module_version": "1.5.0",
            "_view_name": "ProgressView",
            "bar_style": "success",
            "description": "",
            "description_tooltip": null,
            "layout": "IPY_MODEL_20e8bc78af414b43ab7089badce7f47e",
            "max": 1,
            "min": 0,
            "orientation": "horizontal",
            "style": "IPY_MODEL_5c5d3336deed4fc18b003bb6daa933f5",
            "value": 1
          }
        },
        "bd175a68813846d89a195c5d1aad6c2f": {
          "model_module": "@jupyter-widgets/controls",
          "model_name": "HTMLModel",
          "model_module_version": "1.5.0",
          "state": {
            "_dom_classes": [],
            "_model_module": "@jupyter-widgets/controls",
            "_model_module_version": "1.5.0",
            "_model_name": "HTMLModel",
            "_view_count": null,
            "_view_module": "@jupyter-widgets/controls",
            "_view_module_version": "1.5.0",
            "_view_name": "HTMLView",
            "description": "",
            "description_tooltip": null,
            "layout": "IPY_MODEL_58fe8646e85c40b09536289b9d3bb2a3",
            "placeholder": "​",
            "style": "IPY_MODEL_6321febd190b43eb9235a9afda30b5a4",
            "value": " 1/1 [00:00&lt;00:00,  8.71it/s]"
          }
        },
        "83ed9ef9318041bc82c2f1e8090f3d84": {
          "model_module": "@jupyter-widgets/base",
          "model_name": "LayoutModel",
          "model_module_version": "1.2.0",
          "state": {
            "_model_module": "@jupyter-widgets/base",
            "_model_module_version": "1.2.0",
            "_model_name": "LayoutModel",
            "_view_count": null,
            "_view_module": "@jupyter-widgets/base",
            "_view_module_version": "1.2.0",
            "_view_name": "LayoutView",
            "align_content": null,
            "align_items": null,
            "align_self": null,
            "border": null,
            "bottom": null,
            "display": null,
            "flex": null,
            "flex_flow": null,
            "grid_area": null,
            "grid_auto_columns": null,
            "grid_auto_flow": null,
            "grid_auto_rows": null,
            "grid_column": null,
            "grid_gap": null,
            "grid_row": null,
            "grid_template_areas": null,
            "grid_template_columns": null,
            "grid_template_rows": null,
            "height": null,
            "justify_content": null,
            "justify_items": null,
            "left": null,
            "margin": null,
            "max_height": null,
            "max_width": null,
            "min_height": null,
            "min_width": null,
            "object_fit": null,
            "object_position": null,
            "order": null,
            "overflow": null,
            "overflow_x": null,
            "overflow_y": null,
            "padding": null,
            "right": null,
            "top": null,
            "visibility": null,
            "width": null
          }
        },
        "6b9fa581253047e1ab74512cfa8604c7": {
          "model_module": "@jupyter-widgets/base",
          "model_name": "LayoutModel",
          "model_module_version": "1.2.0",
          "state": {
            "_model_module": "@jupyter-widgets/base",
            "_model_module_version": "1.2.0",
            "_model_name": "LayoutModel",
            "_view_count": null,
            "_view_module": "@jupyter-widgets/base",
            "_view_module_version": "1.2.0",
            "_view_name": "LayoutView",
            "align_content": null,
            "align_items": null,
            "align_self": null,
            "border": null,
            "bottom": null,
            "display": null,
            "flex": null,
            "flex_flow": null,
            "grid_area": null,
            "grid_auto_columns": null,
            "grid_auto_flow": null,
            "grid_auto_rows": null,
            "grid_column": null,
            "grid_gap": null,
            "grid_row": null,
            "grid_template_areas": null,
            "grid_template_columns": null,
            "grid_template_rows": null,
            "height": null,
            "justify_content": null,
            "justify_items": null,
            "left": null,
            "margin": null,
            "max_height": null,
            "max_width": null,
            "min_height": null,
            "min_width": null,
            "object_fit": null,
            "object_position": null,
            "order": null,
            "overflow": null,
            "overflow_x": null,
            "overflow_y": null,
            "padding": null,
            "right": null,
            "top": null,
            "visibility": null,
            "width": null
          }
        },
        "53dfbed01db94dcc8888f6d2f0c962c6": {
          "model_module": "@jupyter-widgets/controls",
          "model_name": "DescriptionStyleModel",
          "model_module_version": "1.5.0",
          "state": {
            "_model_module": "@jupyter-widgets/controls",
            "_model_module_version": "1.5.0",
            "_model_name": "DescriptionStyleModel",
            "_view_count": null,
            "_view_module": "@jupyter-widgets/base",
            "_view_module_version": "1.2.0",
            "_view_name": "StyleView",
            "description_width": ""
          }
        },
        "20e8bc78af414b43ab7089badce7f47e": {
          "model_module": "@jupyter-widgets/base",
          "model_name": "LayoutModel",
          "model_module_version": "1.2.0",
          "state": {
            "_model_module": "@jupyter-widgets/base",
            "_model_module_version": "1.2.0",
            "_model_name": "LayoutModel",
            "_view_count": null,
            "_view_module": "@jupyter-widgets/base",
            "_view_module_version": "1.2.0",
            "_view_name": "LayoutView",
            "align_content": null,
            "align_items": null,
            "align_self": null,
            "border": null,
            "bottom": null,
            "display": null,
            "flex": null,
            "flex_flow": null,
            "grid_area": null,
            "grid_auto_columns": null,
            "grid_auto_flow": null,
            "grid_auto_rows": null,
            "grid_column": null,
            "grid_gap": null,
            "grid_row": null,
            "grid_template_areas": null,
            "grid_template_columns": null,
            "grid_template_rows": null,
            "height": null,
            "justify_content": null,
            "justify_items": null,
            "left": null,
            "margin": null,
            "max_height": null,
            "max_width": null,
            "min_height": null,
            "min_width": null,
            "object_fit": null,
            "object_position": null,
            "order": null,
            "overflow": null,
            "overflow_x": null,
            "overflow_y": null,
            "padding": null,
            "right": null,
            "top": null,
            "visibility": null,
            "width": null
          }
        },
        "5c5d3336deed4fc18b003bb6daa933f5": {
          "model_module": "@jupyter-widgets/controls",
          "model_name": "ProgressStyleModel",
          "model_module_version": "1.5.0",
          "state": {
            "_model_module": "@jupyter-widgets/controls",
            "_model_module_version": "1.5.0",
            "_model_name": "ProgressStyleModel",
            "_view_count": null,
            "_view_module": "@jupyter-widgets/base",
            "_view_module_version": "1.2.0",
            "_view_name": "StyleView",
            "bar_color": null,
            "description_width": ""
          }
        },
        "58fe8646e85c40b09536289b9d3bb2a3": {
          "model_module": "@jupyter-widgets/base",
          "model_name": "LayoutModel",
          "model_module_version": "1.2.0",
          "state": {
            "_model_module": "@jupyter-widgets/base",
            "_model_module_version": "1.2.0",
            "_model_name": "LayoutModel",
            "_view_count": null,
            "_view_module": "@jupyter-widgets/base",
            "_view_module_version": "1.2.0",
            "_view_name": "LayoutView",
            "align_content": null,
            "align_items": null,
            "align_self": null,
            "border": null,
            "bottom": null,
            "display": null,
            "flex": null,
            "flex_flow": null,
            "grid_area": null,
            "grid_auto_columns": null,
            "grid_auto_flow": null,
            "grid_auto_rows": null,
            "grid_column": null,
            "grid_gap": null,
            "grid_row": null,
            "grid_template_areas": null,
            "grid_template_columns": null,
            "grid_template_rows": null,
            "height": null,
            "justify_content": null,
            "justify_items": null,
            "left": null,
            "margin": null,
            "max_height": null,
            "max_width": null,
            "min_height": null,
            "min_width": null,
            "object_fit": null,
            "object_position": null,
            "order": null,
            "overflow": null,
            "overflow_x": null,
            "overflow_y": null,
            "padding": null,
            "right": null,
            "top": null,
            "visibility": null,
            "width": null
          }
        },
        "6321febd190b43eb9235a9afda30b5a4": {
          "model_module": "@jupyter-widgets/controls",
          "model_name": "DescriptionStyleModel",
          "model_module_version": "1.5.0",
          "state": {
            "_model_module": "@jupyter-widgets/controls",
            "_model_module_version": "1.5.0",
            "_model_name": "DescriptionStyleModel",
            "_view_count": null,
            "_view_module": "@jupyter-widgets/base",
            "_view_module_version": "1.2.0",
            "_view_name": "StyleView",
            "description_width": ""
          }
        }
      }
    }
  },
  "nbformat": 4,
  "nbformat_minor": 0
}