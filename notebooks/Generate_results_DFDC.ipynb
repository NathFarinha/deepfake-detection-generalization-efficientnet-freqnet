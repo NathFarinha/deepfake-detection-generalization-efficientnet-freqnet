{
  "cells": [
    {
      "cell_type": "markdown",
      "metadata": {
        "id": "ifZDn-wur4rT"
      },
      "source": [
        "# Generate Individual Network Results\n",
        "\n",
        "Adapted and modified from the original article's GitHub repository:\n",
        "https://github.com/polimi-ispl/icpr2020dfdc.git\n",
        "\n",
        "For more information on how to generate the results, please refer to the code in the original article.\n",
        "\n",
        "Note: The 1000 pre-processed videos used for testing could not be included due to their file size."
      ]
    },
    {
      "cell_type": "code",
      "source": [
        "# Clone the Project Repository from the Article 'Video Face Manipulation Detection Through Ensemble of CNNs'\n",
        "!pip install av\n",
        "!git clone https://github.com/polimi-ispl/icpr2020dfdc\n",
        "!pip install efficientnet-pytorch\n",
        "!pip install -U git+https://github.com/albu/albumentations > /dev/null\n",
        "%cd icpr2020dfdc"
      ],
      "metadata": {
        "colab": {
          "base_uri": "https://localhost:8080/"
        },
        "id": "9PJDVHeszWu1",
        "outputId": "33cabd75-5249-498f-e0cc-1f786ad797b7"
      },
      "execution_count": null,
      "outputs": [
        {
          "output_type": "stream",
          "name": "stdout",
          "text": [
            "Collecting av\n",
            "  Downloading av-15.0.0-cp311-cp311-manylinux_2_28_x86_64.whl.metadata (4.6 kB)\n",
            "Downloading av-15.0.0-cp311-cp311-manylinux_2_28_x86_64.whl (39.7 MB)\n",
            "\u001b[2K   \u001b[90m━━━━━━━━━━━━━━━━━━━━━━━━━━━━━━━━━━━━━━━━\u001b[0m \u001b[32m39.7/39.7 MB\u001b[0m \u001b[31m32.7 MB/s\u001b[0m eta \u001b[36m0:00:00\u001b[0m\n",
            "\u001b[?25hInstalling collected packages: av\n",
            "Successfully installed av-15.0.0\n",
            "Cloning into 'icpr2020dfdc'...\n",
            "remote: Enumerating objects: 656, done.\u001b[K\n",
            "remote: Counting objects: 100% (119/119), done.\u001b[K\n",
            "remote: Compressing objects: 100% (36/36), done.\u001b[K\n",
            "remote: Total 656 (delta 101), reused 87 (delta 83), pack-reused 537 (from 1)\u001b[K\n",
            "Receiving objects: 100% (656/656), 99.64 MiB | 15.53 MiB/s, done.\n",
            "Resolving deltas: 100% (341/341), done.\n",
            "Collecting efficientnet-pytorch\n",
            "  Downloading efficientnet_pytorch-0.7.1.tar.gz (21 kB)\n",
            "  Preparing metadata (setup.py) ... \u001b[?25l\u001b[?25hdone\n",
            "Requirement already satisfied: torch in /usr/local/lib/python3.11/dist-packages (from efficientnet-pytorch) (2.6.0+cu124)\n",
            "Requirement already satisfied: filelock in /usr/local/lib/python3.11/dist-packages (from torch->efficientnet-pytorch) (3.18.0)\n",
            "Requirement already satisfied: typing-extensions>=4.10.0 in /usr/local/lib/python3.11/dist-packages (from torch->efficientnet-pytorch) (4.14.1)\n",
            "Requirement already satisfied: networkx in /usr/local/lib/python3.11/dist-packages (from torch->efficientnet-pytorch) (3.5)\n",
            "Requirement already satisfied: jinja2 in /usr/local/lib/python3.11/dist-packages (from torch->efficientnet-pytorch) (3.1.6)\n",
            "Requirement already satisfied: fsspec in /usr/local/lib/python3.11/dist-packages (from torch->efficientnet-pytorch) (2025.3.0)\n",
            "Collecting nvidia-cuda-nvrtc-cu12==12.4.127 (from torch->efficientnet-pytorch)\n",
            "  Downloading nvidia_cuda_nvrtc_cu12-12.4.127-py3-none-manylinux2014_x86_64.whl.metadata (1.5 kB)\n",
            "Collecting nvidia-cuda-runtime-cu12==12.4.127 (from torch->efficientnet-pytorch)\n",
            "  Downloading nvidia_cuda_runtime_cu12-12.4.127-py3-none-manylinux2014_x86_64.whl.metadata (1.5 kB)\n",
            "Collecting nvidia-cuda-cupti-cu12==12.4.127 (from torch->efficientnet-pytorch)\n",
            "  Downloading nvidia_cuda_cupti_cu12-12.4.127-py3-none-manylinux2014_x86_64.whl.metadata (1.6 kB)\n",
            "Collecting nvidia-cudnn-cu12==9.1.0.70 (from torch->efficientnet-pytorch)\n",
            "  Downloading nvidia_cudnn_cu12-9.1.0.70-py3-none-manylinux2014_x86_64.whl.metadata (1.6 kB)\n",
            "Collecting nvidia-cublas-cu12==12.4.5.8 (from torch->efficientnet-pytorch)\n",
            "  Downloading nvidia_cublas_cu12-12.4.5.8-py3-none-manylinux2014_x86_64.whl.metadata (1.5 kB)\n",
            "Collecting nvidia-cufft-cu12==11.2.1.3 (from torch->efficientnet-pytorch)\n",
            "  Downloading nvidia_cufft_cu12-11.2.1.3-py3-none-manylinux2014_x86_64.whl.metadata (1.5 kB)\n",
            "Collecting nvidia-curand-cu12==10.3.5.147 (from torch->efficientnet-pytorch)\n",
            "  Downloading nvidia_curand_cu12-10.3.5.147-py3-none-manylinux2014_x86_64.whl.metadata (1.5 kB)\n",
            "Collecting nvidia-cusolver-cu12==11.6.1.9 (from torch->efficientnet-pytorch)\n",
            "  Downloading nvidia_cusolver_cu12-11.6.1.9-py3-none-manylinux2014_x86_64.whl.metadata (1.6 kB)\n",
            "Collecting nvidia-cusparse-cu12==12.3.1.170 (from torch->efficientnet-pytorch)\n",
            "  Downloading nvidia_cusparse_cu12-12.3.1.170-py3-none-manylinux2014_x86_64.whl.metadata (1.6 kB)\n",
            "Requirement already satisfied: nvidia-cusparselt-cu12==0.6.2 in /usr/local/lib/python3.11/dist-packages (from torch->efficientnet-pytorch) (0.6.2)\n",
            "Collecting nvidia-nccl-cu12==2.21.5 (from torch->efficientnet-pytorch)\n",
            "  Downloading nvidia_nccl_cu12-2.21.5-py3-none-manylinux2014_x86_64.whl.metadata (1.8 kB)\n",
            "Requirement already satisfied: nvidia-nvtx-cu12==12.4.127 in /usr/local/lib/python3.11/dist-packages (from torch->efficientnet-pytorch) (12.4.127)\n",
            "Collecting nvidia-nvjitlink-cu12==12.4.127 (from torch->efficientnet-pytorch)\n",
            "  Downloading nvidia_nvjitlink_cu12-12.4.127-py3-none-manylinux2014_x86_64.whl.metadata (1.5 kB)\n",
            "Requirement already satisfied: triton==3.2.0 in /usr/local/lib/python3.11/dist-packages (from torch->efficientnet-pytorch) (3.2.0)\n",
            "Requirement already satisfied: sympy==1.13.1 in /usr/local/lib/python3.11/dist-packages (from torch->efficientnet-pytorch) (1.13.1)\n",
            "Requirement already satisfied: mpmath<1.4,>=1.1.0 in /usr/local/lib/python3.11/dist-packages (from sympy==1.13.1->torch->efficientnet-pytorch) (1.3.0)\n",
            "Requirement already satisfied: MarkupSafe>=2.0 in /usr/local/lib/python3.11/dist-packages (from jinja2->torch->efficientnet-pytorch) (3.0.2)\n",
            "Downloading nvidia_cublas_cu12-12.4.5.8-py3-none-manylinux2014_x86_64.whl (363.4 MB)\n",
            "\u001b[2K   \u001b[90m━━━━━━━━━━━━━━━━━━━━━━━━━━━━━━━━━━━━━━━━\u001b[0m \u001b[32m363.4/363.4 MB\u001b[0m \u001b[31m2.7 MB/s\u001b[0m eta \u001b[36m0:00:00\u001b[0m\n",
            "\u001b[?25hDownloading nvidia_cuda_cupti_cu12-12.4.127-py3-none-manylinux2014_x86_64.whl (13.8 MB)\n",
            "\u001b[2K   \u001b[90m━━━━━━━━━━━━━━━━━━━━━━━━━━━━━━━━━━━━━━━━\u001b[0m \u001b[32m13.8/13.8 MB\u001b[0m \u001b[31m90.6 MB/s\u001b[0m eta \u001b[36m0:00:00\u001b[0m\n",
            "\u001b[?25hDownloading nvidia_cuda_nvrtc_cu12-12.4.127-py3-none-manylinux2014_x86_64.whl (24.6 MB)\n",
            "\u001b[2K   \u001b[90m━━━━━━━━━━━━━━━━━━━━━━━━━━━━━━━━━━━━━━━━\u001b[0m \u001b[32m24.6/24.6 MB\u001b[0m \u001b[31m56.9 MB/s\u001b[0m eta \u001b[36m0:00:00\u001b[0m\n",
            "\u001b[?25hDownloading nvidia_cuda_runtime_cu12-12.4.127-py3-none-manylinux2014_x86_64.whl (883 kB)\n",
            "\u001b[2K   \u001b[90m━━━━━━━━━━━━━━━━━━━━━━━━━━━━━━━━━━━━━━━━\u001b[0m \u001b[32m883.7/883.7 kB\u001b[0m \u001b[31m55.7 MB/s\u001b[0m eta \u001b[36m0:00:00\u001b[0m\n",
            "\u001b[?25hDownloading nvidia_cudnn_cu12-9.1.0.70-py3-none-manylinux2014_x86_64.whl (664.8 MB)\n",
            "\u001b[2K   \u001b[90m━━━━━━━━━━━━━━━━━━━━━━━━━━━━━━━━━━━━━━━━\u001b[0m \u001b[32m664.8/664.8 MB\u001b[0m \u001b[31m2.8 MB/s\u001b[0m eta \u001b[36m0:00:00\u001b[0m\n",
            "\u001b[?25hDownloading nvidia_cufft_cu12-11.2.1.3-py3-none-manylinux2014_x86_64.whl (211.5 MB)\n",
            "\u001b[2K   \u001b[90m━━━━━━━━━━━━━━━━━━━━━━━━━━━━━━━━━━━━━━━━\u001b[0m \u001b[32m211.5/211.5 MB\u001b[0m \u001b[31m6.4 MB/s\u001b[0m eta \u001b[36m0:00:00\u001b[0m\n",
            "\u001b[?25hDownloading nvidia_curand_cu12-10.3.5.147-py3-none-manylinux2014_x86_64.whl (56.3 MB)\n",
            "\u001b[2K   \u001b[90m━━━━━━━━━━━━━━━━━━━━━━━━━━━━━━━━━━━━━━━━\u001b[0m \u001b[32m56.3/56.3 MB\u001b[0m \u001b[31m12.8 MB/s\u001b[0m eta \u001b[36m0:00:00\u001b[0m\n",
            "\u001b[?25hDownloading nvidia_cusolver_cu12-11.6.1.9-py3-none-manylinux2014_x86_64.whl (127.9 MB)\n",
            "\u001b[2K   \u001b[90m━━━━━━━━━━━━━━━━━━━━━━━━━━━━━━━━━━━━━━━━\u001b[0m \u001b[32m127.9/127.9 MB\u001b[0m \u001b[31m7.5 MB/s\u001b[0m eta \u001b[36m0:00:00\u001b[0m\n",
            "\u001b[?25hDownloading nvidia_cusparse_cu12-12.3.1.170-py3-none-manylinux2014_x86_64.whl (207.5 MB)\n",
            "\u001b[2K   \u001b[90m━━━━━━━━━━━━━━━━━━━━━━━━━━━━━━━━━━━━━━━━\u001b[0m \u001b[32m207.5/207.5 MB\u001b[0m \u001b[31m6.0 MB/s\u001b[0m eta \u001b[36m0:00:00\u001b[0m\n",
            "\u001b[?25hDownloading nvidia_nccl_cu12-2.21.5-py3-none-manylinux2014_x86_64.whl (188.7 MB)\n",
            "\u001b[2K   \u001b[90m━━━━━━━━━━━━━━━━━━━━━━━━━━━━━━━━━━━━━━━━\u001b[0m \u001b[32m188.7/188.7 MB\u001b[0m \u001b[31m6.3 MB/s\u001b[0m eta \u001b[36m0:00:00\u001b[0m\n",
            "\u001b[?25hDownloading nvidia_nvjitlink_cu12-12.4.127-py3-none-manylinux2014_x86_64.whl (21.1 MB)\n",
            "\u001b[2K   \u001b[90m━━━━━━━━━━━━━━━━━━━━━━━━━━━━━━━━━━━━━━━━\u001b[0m \u001b[32m21.1/21.1 MB\u001b[0m \u001b[31m68.1 MB/s\u001b[0m eta \u001b[36m0:00:00\u001b[0m\n",
            "\u001b[?25hBuilding wheels for collected packages: efficientnet-pytorch\n",
            "  Building wheel for efficientnet-pytorch (setup.py) ... \u001b[?25l\u001b[?25hdone\n",
            "  Created wheel for efficientnet-pytorch: filename=efficientnet_pytorch-0.7.1-py3-none-any.whl size=16426 sha256=1905de93bd3a7915dead6640ecefcd2ac0e54f4008de23192c0f31ea890fbf7f\n",
            "  Stored in directory: /root/.cache/pip/wheels/8b/6f/9b/231a832f811ab6ebb1b32455b177ffc6b8b1cd8de19de70c09\n",
            "Successfully built efficientnet-pytorch\n",
            "Installing collected packages: nvidia-nvjitlink-cu12, nvidia-nccl-cu12, nvidia-curand-cu12, nvidia-cufft-cu12, nvidia-cuda-runtime-cu12, nvidia-cuda-nvrtc-cu12, nvidia-cuda-cupti-cu12, nvidia-cublas-cu12, nvidia-cusparse-cu12, nvidia-cudnn-cu12, nvidia-cusolver-cu12, efficientnet-pytorch\n",
            "  Attempting uninstall: nvidia-nvjitlink-cu12\n",
            "    Found existing installation: nvidia-nvjitlink-cu12 12.5.82\n",
            "    Uninstalling nvidia-nvjitlink-cu12-12.5.82:\n",
            "      Successfully uninstalled nvidia-nvjitlink-cu12-12.5.82\n",
            "  Attempting uninstall: nvidia-nccl-cu12\n",
            "    Found existing installation: nvidia-nccl-cu12 2.23.4\n",
            "    Uninstalling nvidia-nccl-cu12-2.23.4:\n",
            "      Successfully uninstalled nvidia-nccl-cu12-2.23.4\n",
            "  Attempting uninstall: nvidia-curand-cu12\n",
            "    Found existing installation: nvidia-curand-cu12 10.3.6.82\n",
            "    Uninstalling nvidia-curand-cu12-10.3.6.82:\n",
            "      Successfully uninstalled nvidia-curand-cu12-10.3.6.82\n",
            "  Attempting uninstall: nvidia-cufft-cu12\n",
            "    Found existing installation: nvidia-cufft-cu12 11.2.3.61\n",
            "    Uninstalling nvidia-cufft-cu12-11.2.3.61:\n",
            "      Successfully uninstalled nvidia-cufft-cu12-11.2.3.61\n",
            "  Attempting uninstall: nvidia-cuda-runtime-cu12\n",
            "    Found existing installation: nvidia-cuda-runtime-cu12 12.5.82\n",
            "    Uninstalling nvidia-cuda-runtime-cu12-12.5.82:\n",
            "      Successfully uninstalled nvidia-cuda-runtime-cu12-12.5.82\n",
            "  Attempting uninstall: nvidia-cuda-nvrtc-cu12\n",
            "    Found existing installation: nvidia-cuda-nvrtc-cu12 12.5.82\n",
            "    Uninstalling nvidia-cuda-nvrtc-cu12-12.5.82:\n",
            "      Successfully uninstalled nvidia-cuda-nvrtc-cu12-12.5.82\n",
            "  Attempting uninstall: nvidia-cuda-cupti-cu12\n",
            "    Found existing installation: nvidia-cuda-cupti-cu12 12.5.82\n",
            "    Uninstalling nvidia-cuda-cupti-cu12-12.5.82:\n",
            "      Successfully uninstalled nvidia-cuda-cupti-cu12-12.5.82\n",
            "  Attempting uninstall: nvidia-cublas-cu12\n",
            "    Found existing installation: nvidia-cublas-cu12 12.5.3.2\n",
            "    Uninstalling nvidia-cublas-cu12-12.5.3.2:\n",
            "      Successfully uninstalled nvidia-cublas-cu12-12.5.3.2\n",
            "  Attempting uninstall: nvidia-cusparse-cu12\n",
            "    Found existing installation: nvidia-cusparse-cu12 12.5.1.3\n",
            "    Uninstalling nvidia-cusparse-cu12-12.5.1.3:\n",
            "      Successfully uninstalled nvidia-cusparse-cu12-12.5.1.3\n",
            "  Attempting uninstall: nvidia-cudnn-cu12\n",
            "    Found existing installation: nvidia-cudnn-cu12 9.3.0.75\n",
            "    Uninstalling nvidia-cudnn-cu12-9.3.0.75:\n",
            "      Successfully uninstalled nvidia-cudnn-cu12-9.3.0.75\n",
            "  Attempting uninstall: nvidia-cusolver-cu12\n",
            "    Found existing installation: nvidia-cusolver-cu12 11.6.3.83\n",
            "    Uninstalling nvidia-cusolver-cu12-11.6.3.83:\n",
            "      Successfully uninstalled nvidia-cusolver-cu12-11.6.3.83\n",
            "Successfully installed efficientnet-pytorch-0.7.1 nvidia-cublas-cu12-12.4.5.8 nvidia-cuda-cupti-cu12-12.4.127 nvidia-cuda-nvrtc-cu12-12.4.127 nvidia-cuda-runtime-cu12-12.4.127 nvidia-cudnn-cu12-9.1.0.70 nvidia-cufft-cu12-11.2.1.3 nvidia-curand-cu12-10.3.5.147 nvidia-cusolver-cu12-11.6.1.9 nvidia-cusparse-cu12-12.3.1.170 nvidia-nccl-cu12-2.21.5 nvidia-nvjitlink-cu12-12.4.127\n",
            "  Running command git clone --filter=blob:none --quiet https://github.com/albu/albumentations /tmp/pip-req-build-lhpvjzwo\n",
            "\u001b[31mERROR: pip's dependency resolver does not currently take into account all the packages that are installed. This behaviour is the source of the following dependency conflicts.\n",
            "albumentations 2.0.8 requires albucore==0.0.24, but you have albucore 0.0.28 which is incompatible.\u001b[0m\u001b[31m\n",
            "\u001b[0m/content/icpr2020dfdc\n"
          ]
        }
      ]
    },
    {
      "cell_type": "markdown",
      "metadata": {
        "id": "Z4hUSWBphQ3n"
      },
      "source": [
        "## Unzip dataset\n"
      ]
    },
    {
      "cell_type": "markdown",
      "source": [
        "ownload the file dfdc_train_part_41.zip from the DFDC website:\n",
        "\n",
        "https://www.kaggle.com/competitions/deepfake-detection-challenge/data\n",
        "\n",
        "\n",
        "\n",
        "And then place it in your Google Drive or directly here in Google Colab."
      ],
      "metadata": {
        "id": "PiXWYdaeyNVt"
      }
    },
    {
      "cell_type": "code",
      "source": [
        "from google.colab import drive\n",
        "drive.mount('/content/drive')"
      ],
      "metadata": {
        "colab": {
          "base_uri": "https://localhost:8080/"
        },
        "id": "_F0638nl0Nxk",
        "outputId": "f5225742-ae5b-4e52-e1f8-131f0f3162d7"
      },
      "execution_count": null,
      "outputs": [
        {
          "output_type": "stream",
          "name": "stdout",
          "text": [
            "Mounted at /content/drive\n"
          ]
        }
      ]
    },
    {
      "cell_type": "code",
      "execution_count": null,
      "metadata": {
        "id": "NbreuuQMnfos",
        "colab": {
          "base_uri": "https://localhost:8080/",
          "height": 356
        },
        "outputId": "28f5931a-5b57-4699-ac56-32988ed3c3f4"
      },
      "outputs": [
        {
          "output_type": "error",
          "ename": "KeyboardInterrupt",
          "evalue": "ignored",
          "traceback": [
            "\u001b[0;31m---------------------------------------------------------------------------\u001b[0m",
            "\u001b[0;31mKeyboardInterrupt\u001b[0m                         Traceback (most recent call last)",
            "\u001b[0;32m<ipython-input-5-a12cf7416fd6>\u001b[0m in \u001b[0;36m<cell line: 21>\u001b[0;34m()\u001b[0m\n\u001b[1;32m     20\u001b[0m \u001b[0;31m# Extrai o conteúdo do arquivo zip para o diretório de destino\u001b[0m\u001b[0;34m\u001b[0m\u001b[0;34m\u001b[0m\u001b[0m\n\u001b[1;32m     21\u001b[0m \u001b[0;32mwith\u001b[0m \u001b[0mzipfile\u001b[0m\u001b[0;34m.\u001b[0m\u001b[0mZipFile\u001b[0m\u001b[0;34m(\u001b[0m\u001b[0mzip_path\u001b[0m\u001b[0;34m,\u001b[0m \u001b[0;34m'r'\u001b[0m\u001b[0;34m)\u001b[0m \u001b[0;32mas\u001b[0m \u001b[0mzip_ref\u001b[0m\u001b[0;34m:\u001b[0m\u001b[0;34m\u001b[0m\u001b[0;34m\u001b[0m\u001b[0m\n\u001b[0;32m---> 22\u001b[0;31m     \u001b[0mzip_ref\u001b[0m\u001b[0;34m.\u001b[0m\u001b[0mextractall\u001b[0m\u001b[0;34m(\u001b[0m\u001b[0;34m'/content/icpr2020dfdc/test/data/dfdc'\u001b[0m\u001b[0;34m)\u001b[0m\u001b[0;34m\u001b[0m\u001b[0;34m\u001b[0m\u001b[0m\n\u001b[0m",
            "\u001b[0;32m/usr/lib/python3.10/zipfile.py\u001b[0m in \u001b[0;36mextractall\u001b[0;34m(self, path, members, pwd)\u001b[0m\n\u001b[1;32m   1645\u001b[0m \u001b[0;34m\u001b[0m\u001b[0m\n\u001b[1;32m   1646\u001b[0m         \u001b[0;32mfor\u001b[0m \u001b[0mzipinfo\u001b[0m \u001b[0;32min\u001b[0m \u001b[0mmembers\u001b[0m\u001b[0;34m:\u001b[0m\u001b[0;34m\u001b[0m\u001b[0;34m\u001b[0m\u001b[0m\n\u001b[0;32m-> 1647\u001b[0;31m             \u001b[0mself\u001b[0m\u001b[0;34m.\u001b[0m\u001b[0m_extract_member\u001b[0m\u001b[0;34m(\u001b[0m\u001b[0mzipinfo\u001b[0m\u001b[0;34m,\u001b[0m \u001b[0mpath\u001b[0m\u001b[0;34m,\u001b[0m \u001b[0mpwd\u001b[0m\u001b[0;34m)\u001b[0m\u001b[0;34m\u001b[0m\u001b[0;34m\u001b[0m\u001b[0m\n\u001b[0m\u001b[1;32m   1648\u001b[0m \u001b[0;34m\u001b[0m\u001b[0m\n\u001b[1;32m   1649\u001b[0m     \u001b[0;34m@\u001b[0m\u001b[0mclassmethod\u001b[0m\u001b[0;34m\u001b[0m\u001b[0;34m\u001b[0m\u001b[0m\n",
            "\u001b[0;32m/usr/lib/python3.10/zipfile.py\u001b[0m in \u001b[0;36m_extract_member\u001b[0;34m(self, member, targetpath, pwd)\u001b[0m\n\u001b[1;32m   1700\u001b[0m         \u001b[0;32mwith\u001b[0m \u001b[0mself\u001b[0m\u001b[0;34m.\u001b[0m\u001b[0mopen\u001b[0m\u001b[0;34m(\u001b[0m\u001b[0mmember\u001b[0m\u001b[0;34m,\u001b[0m \u001b[0mpwd\u001b[0m\u001b[0;34m=\u001b[0m\u001b[0mpwd\u001b[0m\u001b[0;34m)\u001b[0m \u001b[0;32mas\u001b[0m \u001b[0msource\u001b[0m\u001b[0;34m,\u001b[0m\u001b[0;31m \u001b[0m\u001b[0;31m\\\u001b[0m\u001b[0;34m\u001b[0m\u001b[0;34m\u001b[0m\u001b[0m\n\u001b[1;32m   1701\u001b[0m              \u001b[0mopen\u001b[0m\u001b[0;34m(\u001b[0m\u001b[0mtargetpath\u001b[0m\u001b[0;34m,\u001b[0m \u001b[0;34m\"wb\"\u001b[0m\u001b[0;34m)\u001b[0m \u001b[0;32mas\u001b[0m \u001b[0mtarget\u001b[0m\u001b[0;34m:\u001b[0m\u001b[0;34m\u001b[0m\u001b[0;34m\u001b[0m\u001b[0m\n\u001b[0;32m-> 1702\u001b[0;31m             \u001b[0mshutil\u001b[0m\u001b[0;34m.\u001b[0m\u001b[0mcopyfileobj\u001b[0m\u001b[0;34m(\u001b[0m\u001b[0msource\u001b[0m\u001b[0;34m,\u001b[0m \u001b[0mtarget\u001b[0m\u001b[0;34m)\u001b[0m\u001b[0;34m\u001b[0m\u001b[0;34m\u001b[0m\u001b[0m\n\u001b[0m\u001b[1;32m   1703\u001b[0m \u001b[0;34m\u001b[0m\u001b[0m\n\u001b[1;32m   1704\u001b[0m         \u001b[0;32mreturn\u001b[0m \u001b[0mtargetpath\u001b[0m\u001b[0;34m\u001b[0m\u001b[0;34m\u001b[0m\u001b[0m\n",
            "\u001b[0;32m/usr/lib/python3.10/shutil.py\u001b[0m in \u001b[0;36mcopyfileobj\u001b[0;34m(fsrc, fdst, length)\u001b[0m\n\u001b[1;32m    185\u001b[0m                 \u001b[0mfdst_write\u001b[0m\u001b[0;34m(\u001b[0m\u001b[0mmv\u001b[0m\u001b[0;34m)\u001b[0m\u001b[0;34m\u001b[0m\u001b[0;34m\u001b[0m\u001b[0m\n\u001b[1;32m    186\u001b[0m \u001b[0;34m\u001b[0m\u001b[0m\n\u001b[0;32m--> 187\u001b[0;31m \u001b[0;32mdef\u001b[0m \u001b[0mcopyfileobj\u001b[0m\u001b[0;34m(\u001b[0m\u001b[0mfsrc\u001b[0m\u001b[0;34m,\u001b[0m \u001b[0mfdst\u001b[0m\u001b[0;34m,\u001b[0m \u001b[0mlength\u001b[0m\u001b[0;34m=\u001b[0m\u001b[0;36m0\u001b[0m\u001b[0;34m)\u001b[0m\u001b[0;34m:\u001b[0m\u001b[0;34m\u001b[0m\u001b[0;34m\u001b[0m\u001b[0m\n\u001b[0m\u001b[1;32m    188\u001b[0m     \u001b[0;34m\"\"\"copy data from file-like object fsrc to file-like object fdst\"\"\"\u001b[0m\u001b[0;34m\u001b[0m\u001b[0;34m\u001b[0m\u001b[0m\n\u001b[1;32m    189\u001b[0m     \u001b[0;31m# Localize variable access to minimize overhead.\u001b[0m\u001b[0;34m\u001b[0m\u001b[0;34m\u001b[0m\u001b[0m\n",
            "\u001b[0;31mKeyboardInterrupt\u001b[0m: "
          ]
        }
      ],
      "source": [
        "import os\n",
        "import zipfile\n",
        "import shutil\n",
        "\n",
        "# Path to the zip file\n",
        "zip_path = '/content/drive/MyDrive/DEEP_FAKE_DETECTION_2023/DFDC/dfdc_train_part_41.zip'\n",
        "\n",
        "# List of files/directories to be removed\n",
        "arquivos_a_remover = [\n",
        "    '/content/icpr2020dfdc/test/data/dfdc/dfdc_train_part_0',\n",
        "    '/content/icpr2020dfdc/test/data/dfdc/dfdc_train_part_1',\n",
        "    '/content/icpr2020dfdc/test/data/dfdc/dfdc_train_part_10'\n",
        "]\n",
        "\n",
        "# Remove the specified files/directories\n",
        "for caminho_do_arquivo in arquivos_a_remover:\n",
        "    if os.path.exists(caminho_do_arquivo):\n",
        "        # Use rmtree to remove a directory and all its contents\n",
        "        shutil.rmtree(caminho_do_arquivo)\n",
        "\n",
        "# Extract the contents of the zip file to the destination directory\n",
        "with zipfile.ZipFile(zip_path, 'r') as zip_ref:\n",
        "    zip_ref.extractall('/content/icpr2020dfdc/test/data/dfdc')"
      ]
    },
    {
      "cell_type": "markdown",
      "metadata": {
        "id": "640nrV2NlbbX"
      },
      "source": [
        "## DFDC"
      ]
    },
    {
      "cell_type": "markdown",
      "metadata": {
        "id": "RlP7Xeh9g2Ax"
      },
      "source": [
        "### Organize and Pre-process the DFDC Test Dataset"
      ]
    },
    {
      "cell_type": "code",
      "execution_count": null,
      "metadata": {
        "colab": {
          "base_uri": "https://localhost:8080/"
        },
        "id": "6_KeEdLFH4rK",
        "outputId": "646202ef-9e88-468c-e70f-dee0f1fee06a"
      },
      "outputs": [
        {
          "name": "stdout",
          "output_type": "stream",
          "text": [
            "/content/icpr2020dfdc\n"
          ]
        }
      ],
      "source": [
        "#cd /content/icpr2020dfdc"
      ]
    },
    {
      "cell_type": "markdown",
      "metadata": {
        "id": "_dZMlzTFgcvt"
      },
      "source": [
        "Index the Test Images in the DFDC Dataset"
      ]
    },
    {
      "cell_type": "code",
      "execution_count": null,
      "metadata": {
        "colab": {
          "base_uri": "https://localhost:8080/"
        },
        "id": "oW7k8c_6ld5P",
        "outputId": "cbef29dd-7448-42b5-e888-2b8ec2553beb"
      },
      "outputs": [
        {
          "output_type": "stream",
          "name": "stdout",
          "text": [
            "Creating video DataFrame\n",
            "\rIndexing:   0% 0/1 [00:00<?, ?it/s]\rIndexing: 100% 1/1 [00:00<00:00, 12.16it/s]\n",
            "\rMetadata:   0% 0/35 [00:00<?, ?it/s]Error while reading file: test/data/dfdc/dfdc_train_part_41/zrbwugzvsd.mp4\n",
            "[Errno 2] No such file or directory: 'test/data/dfdc/dfdc_train_part_41/zrbwugzvsd.mp4'\n",
            "Metadata:   6% 2/35 [00:02<00:34,  1.04s/it]Error while reading file: test/data/dfdc/dfdc_train_part_41/zjldvpxqcg.mp4\n",
            "[Errno 2] No such file or directory: 'test/data/dfdc/dfdc_train_part_41/zjldvpxqcg.mp4'\n",
            "Metadata:   9% 3/35 [00:03<00:31,  1.02it/s]Error while reading file: test/data/dfdc/dfdc_train_part_41/zrhtdrilpy.mp4\n",
            "[Errno 2] No such file or directory: 'test/data/dfdc/dfdc_train_part_41/zrhtdrilpy.mp4'\n",
            "Error while reading file: test/data/dfdc/dfdc_train_part_41/zsvpmgtmqv.mp4\n",
            "[Errno 2] No such file or directory: 'test/data/dfdc/dfdc_train_part_41/zsvpmgtmqv.mp4'\n",
            "Metadata:  11% 4/35 [00:03<00:29,  1.07it/s]Error while reading file: test/data/dfdc/dfdc_train_part_41/zzdvaxbecl.mp4\n",
            "[Errno 2] No such file or directory: 'test/data/dfdc/dfdc_train_part_41/zzdvaxbecl.mp4'\n",
            "Error while reading file: test/data/dfdc/dfdc_train_part_41/zzfyzzeelr.mp4\n",
            "[Errno 2] No such file or directory: 'test/data/dfdc/dfdc_train_part_41/zzfyzzeelr.mp4'\n",
            "Error while reading file: test/data/dfdc/dfdc_train_part_41/zmwriovmpy.mp4\n",
            "[Errno 2] No such file or directory: 'test/data/dfdc/dfdc_train_part_41/zmwriovmpy.mp4'\n",
            "Metadata:  14% 5/35 [00:04<00:29,  1.03it/s]\n",
            "Traceback (most recent call last):\n",
            "  File \"/content/icpr2020dfdc/index_dfdc.py\", line 94, in <module>\n",
            "    main(sys.argv[1:])\n",
            "  File \"/content/icpr2020dfdc/index_dfdc.py\", line 76, in main\n",
            "    batch_res = pool.map(extract_meta_av, paths_arr[batch_idx0:batch_idx0 + batch_size])\n",
            "  File \"/usr/lib/python3.10/multiprocessing/pool.py\", line 367, in map\n",
            "    return self._map_async(func, iterable, mapstar, chunksize).get()\n",
            "  File \"/usr/lib/python3.10/multiprocessing/pool.py\", line 768, in get\n",
            "    self.wait(timeout)\n",
            "  File \"/usr/lib/python3.10/multiprocessing/pool.py\", line 765, in wait\n",
            "    self._event.wait(timeout)\n",
            "  File \"/usr/lib/python3.10/threading.py\", line 607, in wait\n",
            "    signaled = self._cond.wait(timeout)\n",
            "  File \"/usr/lib/python3.10/threading.py\", line 320, in wait\n",
            "    waiter.acquire()\n",
            "KeyboardInterrupt\n",
            "^C\n"
          ]
        }
      ],
      "source": [
        "!python index_dfdc.py --source test/data/dfdc"
      ]
    },
    {
      "cell_type": "markdown",
      "metadata": {
        "id": "brho3-XjgiXZ"
      },
      "source": [
        "Extract Faces from the DFDC Test Dataset"
      ]
    },
    {
      "cell_type": "code",
      "execution_count": null,
      "metadata": {
        "colab": {
          "base_uri": "https://localhost:8080/"
        },
        "id": "pfMeQtEZoNJ0",
        "outputId": "89c5a6ea-7801-4d24-a31b-504825849ebf"
      },
      "outputs": [
        {
          "output_type": "stream",
          "name": "stdout",
          "text": [
            "Loading video DataFrame\n",
            "Traceback (most recent call last):\n",
            "  File \"/content/icpr2020dfdc/extract_faces.py\", line 346, in <module>\n",
            "    main(sys.argv[1:])\n",
            "  File \"/content/icpr2020dfdc/extract_faces.py\", line 82, in main\n",
            "    df_videos = pd.read_pickle(videodataset_path)\n",
            "  File \"/usr/local/lib/python3.10/dist-packages/pandas/io/pickle.py\", line 190, in read_pickle\n",
            "    with get_handle(\n",
            "  File \"/usr/local/lib/python3.10/dist-packages/pandas/io/common.py\", line 865, in get_handle\n",
            "    handle = open(handle, ioargs.mode)\n",
            "FileNotFoundError: [Errno 2] No such file or directory: 'data/dfdc_videos.pkl'\n"
          ]
        }
      ],
      "source": [
        "!python extract_faces.py \\\n",
        "--source test/data/dfdc \\\n",
        "--videodf data/dfdc_videos.pkl \\\n",
        "--facesfolder faces_dfdc \\\n",
        "--facesdf df_faces_dfdc \\\n",
        "--checkpoint checkpoint_dfdc"
      ]
    },
    {
      "cell_type": "markdown",
      "metadata": {
        "id": "RqVc8Fr9hWMQ"
      },
      "source": [
        "### Organizing Folders for Testing Across Different Architectures"
      ]
    },
    {
      "cell_type": "code",
      "execution_count": null,
      "metadata": {
        "id": "R-AOhcQ01-L4"
      },
      "outputs": [],
      "source": [
        "import os\n",
        "\n",
        "os.mkdir('/content/icpr2020dfdc/faces_dfdc')\n",
        "os.mkdir('/content/icpr2020dfdc/checkpoint_dfdc')\n",
        "os.mkdir('/content/icpr2020dfdc/data')\n",
        "os.mkdir('/content/icpr2020dfdc/df_faces_dfdc')\n",
        "\n",
        "\n",
        "os.mkdir('/content/icpr2020dfdc/weights')\n",
        "os.mkdir('/content/icpr2020dfdc/weights/binclass')\n"
      ]
    },
    {
      "cell_type": "code",
      "execution_count": null,
      "metadata": {
        "id": "yuqjNGqZ13t-"
      },
      "outputs": [],
      "source": [
        "import zipfile\n",
        "with zipfile.ZipFile('/content/drive/MyDrive/DEEP_FAKE_DETECTION_2023/FINAL________DFDC/faces_dfdc.zip', 'r') as zip_ref:\n",
        "    zip_ref.extractall('/content/icpr2020dfdc/faces_dfdc')"
      ]
    },
    {
      "cell_type": "code",
      "execution_count": null,
      "metadata": {
        "id": "rnas3JC82G9f"
      },
      "outputs": [],
      "source": [
        "import zipfile\n",
        "with zipfile.ZipFile('/content/drive/MyDrive/DEEP_FAKE_DETECTION_2023/FINAL________DFDC/data.zip', 'r') as zip_ref:\n",
        "    zip_ref.extractall('/content/icpr2020dfdc/data')"
      ]
    },
    {
      "cell_type": "code",
      "execution_count": null,
      "metadata": {
        "id": "RsshC1CR2HDo"
      },
      "outputs": [],
      "source": [
        "import zipfile\n",
        "with zipfile.ZipFile('/content/drive/MyDrive/DEEP_FAKE_DETECTION_2023/FINAL________DFDC/checkpoint_dfdc.zip', 'r') as zip_ref:\n",
        "    zip_ref.extractall('/content/icpr2020dfdc/checkpoint_dfdc')"
      ]
    },
    {
      "cell_type": "code",
      "execution_count": null,
      "metadata": {
        "id": "vHvpiFwY2G52",
        "colab": {
          "base_uri": "https://localhost:8080/",
          "height": 35
        },
        "outputId": "5f8dee3b-979e-4b4d-9ebb-b9e3907db2e8"
      },
      "outputs": [
        {
          "output_type": "execute_result",
          "data": {
            "text/plain": [
              "'/content/icpr2020dfdc/df_faces_dfdc/df_faces_dfdc'"
            ],
            "application/vnd.google.colaboratory.intrinsic+json": {
              "type": "string"
            }
          },
          "metadata": {},
          "execution_count": 7
        }
      ],
      "source": [
        "# importing required packages\n",
        "from pathlib import Path\n",
        "import shutil\n",
        "import os\n",
        "\n",
        "# defining source and destination\n",
        "# paths\n",
        "src = '/content/drive/MyDrive/DEEP_FAKE_DETECTION_2023/FINAL________DFDC/df_faces_dfdc'\n",
        "trg = '/content/icpr2020dfdc/df_faces_dfdc'\n",
        "shutil.copy2(src, trg)"
      ]
    },
    {
      "cell_type": "markdown",
      "metadata": {
        "id": "FonByHGKgpVh"
      },
      "source": [
        "### Test Xception on DFDC"
      ]
    },
    {
      "cell_type": "markdown",
      "metadata": {
        "id": "lKDEqm1BV6AW"
      },
      "source": [
        "Download the file xception-43020ad28.pth manually from:\n",
        "\n",
        "http://data.lip6.fr/cadene/pretrainedmodels/xception-43020ad28.pth\n",
        "\n",
        "And place the .pth file into the icpr2020dfdc directory."
      ]
    },
    {
      "cell_type": "code",
      "execution_count": null,
      "metadata": {
        "id": "0yRUCpc1hp2x"
      },
      "outputs": [],
      "source": [
        "import os\n",
        "os.mkdir('/content/icpr2020dfdc/weights/binclass/net-Xception_traindb-dfdc-35-5-10_face-scale_size-224_seed-41')"
      ]
    },
    {
      "cell_type": "code",
      "execution_count": null,
      "metadata": {
        "colab": {
          "base_uri": "https://localhost:8080/"
        },
        "id": "bRqH6kjWCwcT",
        "outputId": "7eab4e61-447b-4fb8-f10f-ec1ec0edd2d3"
      },
      "outputs": [
        {
          "name": "stdout",
          "output_type": "stream",
          "text": [
            "--2023-09-07 11:26:54--  http://data.lip6.fr/cadene/pretrainedmodels/xception-43020ad28.pth\n",
            "Resolving data.lip6.fr (data.lip6.fr)... 132.227.201.10\n",
            "Connecting to data.lip6.fr (data.lip6.fr)|132.227.201.10|:80... connected.\n",
            "HTTP request sent, awaiting response... 301 Moved Permanently\n",
            "Location: https://data.lip6.fr/cadene/pretrainedmodels/xception-43020ad28.pth [following]\n",
            "--2023-09-07 11:26:54--  https://data.lip6.fr/cadene/pretrainedmodels/xception-43020ad28.pth\n",
            "Connecting to data.lip6.fr (data.lip6.fr)|132.227.201.10|:443... connected.\n",
            "WARNING: cannot verify data.lip6.fr's certificate, issued by ‘CN=TERENA SSL CA 3,O=TERENA,L=Amsterdam,ST=Noord-Holland,C=NL’:\n",
            "  Issued certificate has expired.\n",
            "HTTP request sent, awaiting response... 200 OK\n",
            "Length: 91675053 (87M) [application/octet-stream]\n",
            "Saving to: ‘xception-43020ad28.pth’\n",
            "\n",
            "xception-43020ad28. 100%[===================>]  87.43M   364KB/s    in 4m 18s  \n",
            "\n",
            "2023-09-07 11:31:12 (348 KB/s) - ‘xception-43020ad28.pth’ saved [91675053/91675053]\n",
            "\n"
          ]
        }
      ],
      "source": [
        "!wget http://data.lip6.fr/cadene/pretrainedmodels/xception-43020ad28.pth --no-check-certificate"
      ]
    },
    {
      "cell_type": "code",
      "execution_count": null,
      "metadata": {
        "id": "4-atHGI52Soi"
      },
      "outputs": [],
      "source": [
        "import zipfile\n",
        "with zipfile.ZipFile('/content/drive/MyDrive/DEEP_FAKE_DETECTION_2023/PRETRAINED_MODELS/Xception_FFPP.zip', 'r') as zip_ref:\n",
        "    zip_ref.extractall('/content/icpr2020dfdc/weights/binclass/net-Xception_traindb-dfdc-35-5-10_face-scale_size-224_seed-41')"
      ]
    },
    {
      "cell_type": "code",
      "execution_count": null,
      "metadata": {
        "colab": {
          "base_uri": "https://localhost:8080/"
        },
        "id": "PujB56eE5N91",
        "outputId": "4c4df29f-db6f-4814-ece9-62b6a7393e90"
      },
      "outputs": [
        {
          "name": "stdout",
          "output_type": "stream",
          "text": [
            "/content/icpr2020dfdc\n"
          ]
        }
      ],
      "source": [
        "cd /content/icpr2020dfdc"
      ]
    },
    {
      "cell_type": "markdown",
      "metadata": {
        "id": "8lI8Jp22J1h4"
      },
      "source": [
        "xception.py ->\n",
        "\n",
        "\n",
        "        import torch\n",
        "\n",
        "        torch.load('xception-43020ad28.pth')"
      ]
    },
    {
      "cell_type": "code",
      "execution_count": null,
      "metadata": {
        "colab": {
          "background_save": true,
          "base_uri": "https://localhost:8080/"
        },
        "id": "9ASt2Nqvldym",
        "outputId": "d1210078-eee6-4fa2-ff12-300f57c6eecf"
      },
      "outputs": [
        {
          "name": "stdout",
          "output_type": "stream",
          "text": [
            "Loading model...\n",
            "<All keys matched successfully>\n",
            "Model loaded!\n",
            "Loading data...\n",
            "\n",
            "##### PREDICT VIDEOS FROM dfdc-35-5-10 VAL #####\n",
            "Real frames: 0\n",
            "Fake frames: 0\n",
            "Real videos: 0\n",
            "Fake videos: 0\n",
            "/usr/local/lib/python3.10/dist-packages/torch/utils/data/dataloader.py:560: UserWarning: This DataLoader will create 6 worker processes in total. Our suggested max number of worker in current system is 2, which is smaller than what this DataLoader is going to create. Please be aware that excessive worker creation might get DataLoader running slow or even freeze, lower the worker number to avoid potential slowness/freeze if necessary.\n",
            "  warnings.warn(_create_warning_msg(\n",
            "0it [00:00, ?it/s]\n",
            "Saving results to: results/net-Xception_traindb-dfdc-35-5-10_face-scale_size-224_seed-41_bestval/dfdc-35-5-10_val.pkl\n",
            "\n",
            "##### PREDICT VIDEOS FROM dfdc-35-5-10 TEST #####\n",
            "Real frames: 12927\n",
            "Fake frames: 15996\n",
            "Real videos: 404\n",
            "Fake videos: 500\n",
            "/usr/local/lib/python3.10/dist-packages/torch/utils/data/dataloader.py:560: UserWarning: This DataLoader will create 6 worker processes in total. Our suggested max number of worker in current system is 2, which is smaller than what this DataLoader is going to create. Please be aware that excessive worker creation might get DataLoader running slow or even freeze, lower the worker number to avoid potential slowness/freeze if necessary.\n",
            "  warnings.warn(_create_warning_msg(\n",
            "100% 226/226 [3:12:21<00:00, 51.07s/it]\n",
            "Saving results to: results/net-Xception_traindb-dfdc-35-5-10_face-scale_size-224_seed-41_bestval/dfdc-35-5-10_test.pkl\n",
            "Completed!\n"
          ]
        }
      ],
      "source": [
        "!python test_model.py \\\n",
        "--model_path weights/binclass/net-Xception_traindb-dfdc-35-5-10_face-scale_size-224_seed-41/bestval.pth \\\n",
        "--testsets dfdc-35-5-10 \\\n",
        "--dfdc_faces_df_path df_faces_dfdc/df_faces_dfdc \\\n",
        "--dfdc_faces_dir faces_dfdc \\\n",
        "--device 0 \\\n",
        "--num_video 1000"
      ]
    },
    {
      "cell_type": "code",
      "execution_count": null,
      "metadata": {
        "colab": {
          "background_save": true
        },
        "id": "EYxnNd6s6zvE",
        "outputId": "c0ccaaf7-edff-4d32-cf15-da07f0c7c350"
      },
      "outputs": [
        {
          "data": {
            "application/vnd.google.colaboratory.intrinsic+json": {
              "type": "string"
            },
            "text/plain": [
              "'/content/results_1000_imgs_equal_fake_real.zip'"
            ]
          },
          "execution_count": 14,
          "metadata": {},
          "output_type": "execute_result"
        }
      ],
      "source": [
        "import shutil\n",
        "shutil.make_archive('/content/results_1000_imgs_equal_fake_real', 'zip', '/content/icpr2020dfdc/results')"
      ]
    },
    {
      "cell_type": "code",
      "execution_count": null,
      "metadata": {
        "colab": {
          "background_save": true
        },
        "id": "uazTy1sMVSfe",
        "outputId": "222b921e-f4b7-4cc7-e240-75fbfc411b3e"
      },
      "outputs": [
        {
          "data": {
            "application/vnd.google.colaboratory.intrinsic+json": {
              "type": "string"
            },
            "text/plain": [
              "'/content/drive/MyDrive/DEEP_FAKE_DETECTION_2023/TEST_DFDC_part41/Xception_1000_imgs_equal_fake_real/results_1000_imgs_equal_fake_real.zip'"
            ]
          },
          "execution_count": 15,
          "metadata": {},
          "output_type": "execute_result"
        }
      ],
      "source": [
        "# importing required packages\n",
        "from pathlib import Path\n",
        "import shutil\n",
        "import os\n",
        "\n",
        "# defining source and destination\n",
        "# paths\n",
        "src = '/content/results_1000_imgs_equal_fake_real.zip'\n",
        "trg = '/content/drive/MyDrive/DEEP_FAKE_DETECTION_2023/TEST_DFDC_part41/Xception_1000_imgs_equal_fake_real'\n",
        "shutil.copy2(src, trg)"
      ]
    },
    {
      "cell_type": "code",
      "execution_count": null,
      "metadata": {
        "id": "HK-ChRmsCzWl"
      },
      "outputs": [],
      "source": [
        "import pickle\n",
        "with open('/content/icpr2020dfdc/results/net-Xception_traindb-dfdc-35-5-10_face-scale_size-224_seed-41_bestval/dfdc-35-5-10_test.pkl', 'rb') as f:\n",
        "    data = pickle.load(f)"
      ]
    },
    {
      "cell_type": "code",
      "execution_count": null,
      "metadata": {
        "id": "8PN57kM5jJWu"
      },
      "outputs": [],
      "source": [
        "data"
      ]
    },
    {
      "cell_type": "code",
      "execution_count": null,
      "metadata": {
        "colab": {
          "base_uri": "https://localhost:8080/"
        },
        "id": "odcpqsQgldvw",
        "outputId": "12bdc712-8da0-47ac-d103-ee1f4a9635c5"
      },
      "outputs": [
        {
          "data": {
            "text/plain": [
              "1"
            ]
          },
          "execution_count": 15,
          "metadata": {},
          "output_type": "execute_result"
        }
      ],
      "source": [
        "len(os.listdir('/content/icpr2020dfdc/faces_dfdc/dfdc_train_part_41'))"
      ]
    },
    {
      "cell_type": "code",
      "execution_count": null,
      "metadata": {
        "id": "pq84WZEYldps"
      },
      "outputs": [],
      "source": []
    },
    {
      "cell_type": "markdown",
      "metadata": {
        "id": "ZqkPIbZghG2w"
      },
      "source": [
        "### Test EfficientNetB4 on DFDC"
      ]
    },
    {
      "cell_type": "code",
      "execution_count": null,
      "metadata": {
        "id": "cXYdIaEtjgWY"
      },
      "outputs": [],
      "source": [
        "import os\n",
        "os.mkdir('/content/icpr2020dfdc/weights/binclass/net-EfficientNetB4_traindb-dfdc-35-5-10_face-scale_size-224_seed-41')"
      ]
    },
    {
      "cell_type": "code",
      "execution_count": null,
      "metadata": {
        "id": "ICpF5jL9jv7f"
      },
      "outputs": [],
      "source": [
        "import zipfile\n",
        "with zipfile.ZipFile('/content/drive/MyDrive/DEEP_FAKE_DETECTION_2023/PRETRAINED_MODELS/EfficientNetB4_DFDC.zip', 'r') as zip_ref:\n",
        "    zip_ref.extractall('/content/icpr2020dfdc/weights/binclass/net-EfficientNetB4_traindb-dfdc-35-5-10_face-scale_size-224_seed-41')"
      ]
    },
    {
      "cell_type": "code",
      "execution_count": null,
      "metadata": {
        "colab": {
          "base_uri": "https://localhost:8080/"
        },
        "id": "HxrB_OhNjv4l",
        "outputId": "c9bd9089-e032-4579-b4b4-aa780b9e0032"
      },
      "outputs": [
        {
          "name": "stdout",
          "output_type": "stream",
          "text": [
            "/content/icpr2020dfdc\n"
          ]
        }
      ],
      "source": [
        "cd /content/icpr2020dfdc"
      ]
    },
    {
      "cell_type": "code",
      "execution_count": null,
      "metadata": {
        "colab": {
          "background_save": true,
          "base_uri": "https://localhost:8080/"
        },
        "id": "zaqbkP3Rg-XE",
        "outputId": "96f8d2d6-1bb4-48a0-eeda-5816236bf134"
      },
      "outputs": [
        {
          "name": "stdout",
          "output_type": "stream",
          "text": [
            "Loading model...\n",
            "Downloading: \"https://github.com/lukemelas/EfficientNet-PyTorch/releases/download/1.0/efficientnet-b4-6ed6700e.pth\" to /root/.cache/torch/hub/checkpoints/efficientnet-b4-6ed6700e.pth\n",
            "100% 74.4M/74.4M [00:00<00:00, 122MB/s]\n",
            "Loaded pretrained weights for efficientnet-b4\n",
            "<All keys matched successfully>\n",
            "Model loaded!\n",
            "Loading data...\n",
            "\n",
            "##### PREDICT VIDEOS FROM dfdc-35-5-10 VAL #####\n",
            "Real frames: 0\n",
            "Fake frames: 0\n",
            "Real videos: 0\n",
            "Fake videos: 0\n",
            "/usr/local/lib/python3.10/dist-packages/torch/utils/data/dataloader.py:560: UserWarning: This DataLoader will create 6 worker processes in total. Our suggested max number of worker in current system is 2, which is smaller than what this DataLoader is going to create. Please be aware that excessive worker creation might get DataLoader running slow or even freeze, lower the worker number to avoid potential slowness/freeze if necessary.\n",
            "  warnings.warn(_create_warning_msg(\n",
            "0it [00:00, ?it/s]\n",
            "Saving results to: results/net-EfficientNetB4_traindb-dfdc-35-5-10_face-scale_size-224_seed-41_bestval/dfdc-35-5-10_val.pkl\n",
            "\n",
            "##### PREDICT VIDEOS FROM dfdc-35-5-10 TEST #####\n",
            "Real frames: 12927\n",
            "Fake frames: 58169\n",
            "Real videos: 404\n",
            "Fake videos: 1818\n",
            "/usr/local/lib/python3.10/dist-packages/torch/utils/data/dataloader.py:560: UserWarning: This DataLoader will create 6 worker processes in total. Our suggested max number of worker in current system is 2, which is smaller than what this DataLoader is going to create. Please be aware that excessive worker creation might get DataLoader running slow or even freeze, lower the worker number to avoid potential slowness/freeze if necessary.\n",
            "  warnings.warn(_create_warning_msg(\n",
            "100% 556/556 [8:45:08<00:00, 56.67s/it]\n",
            "Saving results to: results/net-EfficientNetB4_traindb-dfdc-35-5-10_face-scale_size-224_seed-41_bestval/dfdc-35-5-10_test.pkl\n",
            "Completed!\n"
          ]
        }
      ],
      "source": [
        "!python test_model.py \\\n",
        "--model_path weights/binclass/net-EfficientNetB4_traindb-dfdc-35-5-10_face-scale_size-224_seed-41/bestval.pth \\\n",
        "--testsets dfdc-35-5-10 \\\n",
        "--dfdc_faces_df_path df_faces_dfdc/df_faces_dfdc \\\n",
        "--dfdc_faces_dir faces_dfdc \\\n",
        "--device 0"
      ]
    },
    {
      "cell_type": "code",
      "execution_count": null,
      "metadata": {
        "colab": {
          "base_uri": "https://localhost:8080/",
          "height": 36
        },
        "id": "jEM9CjoFg-Rz",
        "outputId": "fc5c899e-015d-4986-abe9-eb1fd6179b32"
      },
      "outputs": [
        {
          "output_type": "execute_result",
          "data": {
            "text/plain": [
              "'/content/results_1000_equal_fake_real_imgs_EfficientNetB4.zip'"
            ],
            "application/vnd.google.colaboratory.intrinsic+json": {
              "type": "string"
            }
          },
          "metadata": {},
          "execution_count": 12
        }
      ],
      "source": [
        "import shutil\n",
        "shutil.make_archive('/content/results_1000_equal_fake_real_imgs_EfficientNetB4', 'zip', '/content/icpr2020dfdc/results')"
      ]
    },
    {
      "cell_type": "code",
      "execution_count": null,
      "metadata": {
        "id": "atJVtL1nwvX0"
      },
      "outputs": [],
      "source": []
    },
    {
      "cell_type": "code",
      "execution_count": null,
      "metadata": {
        "colab": {
          "base_uri": "https://localhost:8080/",
          "height": 36
        },
        "id": "snbfG7Ckg-Pm",
        "outputId": "08f654d8-abf8-4740-e778-22b81987539d"
      },
      "outputs": [
        {
          "output_type": "execute_result",
          "data": {
            "text/plain": [
              "'/content/drive/MyDrive/DEEP_FAKE_DETECTION_2023/TEST_DFDC_part41/results_1000_equal_fake_real_imgs_EfficientNetB4.zip'"
            ],
            "application/vnd.google.colaboratory.intrinsic+json": {
              "type": "string"
            }
          },
          "metadata": {},
          "execution_count": 13
        }
      ],
      "source": [
        "# importing required packages\n",
        "from pathlib import Path\n",
        "import shutil\n",
        "import os\n",
        "\n",
        "# defining source and destination\n",
        "# paths\n",
        "src = '/content/results_1000_equal_fake_real_imgs_EfficientNetB4.zip'\n",
        "trg = '/content/drive/MyDrive/DEEP_FAKE_DETECTION_2023/TEST_DFDC_part41/'\n",
        "shutil.copy2(src, trg)"
      ]
    },
    {
      "cell_type": "code",
      "execution_count": null,
      "metadata": {
        "id": "D-zscAVyg-M3"
      },
      "outputs": [],
      "source": [
        "import pickle\n",
        "with open('/content/icpr2020dfdc/results/net-EfficientNetB4_traindb-dfdc-35-5-10_face-scale_size-224_seed-41_bestval/dfdc-35-5-10_test.pkl', 'rb') as f:\n",
        "    data = pickle.load(f)"
      ]
    },
    {
      "cell_type": "code",
      "execution_count": null,
      "metadata": {
        "id": "jdMUsIrUg-KM"
      },
      "outputs": [],
      "source": [
        "data"
      ]
    },
    {
      "cell_type": "code",
      "execution_count": null,
      "metadata": {
        "id": "jfo5T9Yvg-Ht"
      },
      "outputs": [],
      "source": []
    },
    {
      "cell_type": "code",
      "execution_count": null,
      "metadata": {
        "id": "PZ8h48R_yEun"
      },
      "outputs": [],
      "source": []
    },
    {
      "cell_type": "markdown",
      "metadata": {
        "id": "axkWLJ3ByE7x"
      },
      "source": [
        "### Test EfficientNetB4 on DFDC (triplet)  "
      ]
    },
    {
      "cell_type": "code",
      "execution_count": null,
      "metadata": {
        "id": "NjyQOWJJyNso"
      },
      "outputs": [],
      "source": [
        "import os\n",
        "os.mkdir('/content/icpr2020dfdc/weights/binclass/net-EfficientNetB4ST_traindb-dfdc-35-5-10_face-scale_size-224_seed-41')"
      ]
    },
    {
      "cell_type": "code",
      "execution_count": null,
      "metadata": {
        "id": "TkoRwXrLyNs5"
      },
      "outputs": [],
      "source": [
        "import zipfile\n",
        "with zipfile.ZipFile('/content/drive/MyDrive/DEEP_FAKE_DETECTION_2023/PRETRAINED_MODELS/EfficientNetB4ST_DFDC.zip', 'r') as zip_ref:\n",
        "    zip_ref.extractall('/content/icpr2020dfdc/weights/binclass/net-EfficientNetB4ST_traindb-dfdc-35-5-10_face-scale_size-224_seed-41')"
      ]
    },
    {
      "cell_type": "code",
      "execution_count": null,
      "metadata": {
        "colab": {
          "base_uri": "https://localhost:8080/"
        },
        "id": "IvVHwR62yNs5",
        "outputId": "8a8075f3-a1e4-4f77-f4ff-fcf81c96fe55"
      },
      "outputs": [
        {
          "name": "stdout",
          "output_type": "stream",
          "text": [
            "/content/icpr2020dfdc\n"
          ]
        }
      ],
      "source": [
        "cd /content/icpr2020dfdc"
      ]
    },
    {
      "cell_type": "code",
      "execution_count": null,
      "metadata": {
        "colab": {
          "base_uri": "https://localhost:8080/"
        },
        "id": "c2Y1nIRYyNs6",
        "outputId": "53df7d44-bdc6-48c0-9072-2686b1207209"
      },
      "outputs": [
        {
          "name": "stdout",
          "output_type": "stream",
          "text": [
            "Loading model...\n",
            "Downloading: \"https://github.com/lukemelas/EfficientNet-PyTorch/releases/download/1.0/efficientnet-b4-6ed6700e.pth\" to /root/.cache/torch/hub/checkpoints/efficientnet-b4-6ed6700e.pth\n",
            "100% 74.4M/74.4M [00:01<00:00, 62.3MB/s]\n",
            "Loaded pretrained weights for efficientnet-b4\n",
            "<All keys matched successfully>\n",
            "Model loaded!\n",
            "Loading data...\n",
            "\n",
            "##### PREDICT VIDEOS FROM dfdc-35-5-10 VAL #####\n",
            "Real frames: 0\n",
            "Fake frames: 0\n",
            "Real videos: 0\n",
            "Fake videos: 0\n",
            "/usr/local/lib/python3.10/dist-packages/torch/utils/data/dataloader.py:560: UserWarning: This DataLoader will create 6 worker processes in total. Our suggested max number of worker in current system is 2, which is smaller than what this DataLoader is going to create. Please be aware that excessive worker creation might get DataLoader running slow or even freeze, lower the worker number to avoid potential slowness/freeze if necessary.\n",
            "  warnings.warn(_create_warning_msg(\n",
            "0it [00:00, ?it/s]\n",
            "Saving results to: results/net-EfficientNetB4ST_traindb-dfdc-35-5-10_face-scale_size-224_seed-41_bestval/dfdc-35-5-10_val.pkl\n",
            "\n",
            "##### PREDICT VIDEOS FROM dfdc-35-5-10 TEST #####\n",
            "Real frames: 12927\n",
            "Fake frames: 15996\n",
            "Real videos: 404\n",
            "Fake videos: 500\n",
            "/usr/local/lib/python3.10/dist-packages/torch/utils/data/dataloader.py:560: UserWarning: This DataLoader will create 6 worker processes in total. Our suggested max number of worker in current system is 2, which is smaller than what this DataLoader is going to create. Please be aware that excessive worker creation might get DataLoader running slow or even freeze, lower the worker number to avoid potential slowness/freeze if necessary.\n",
            "  warnings.warn(_create_warning_msg(\n",
            "100% 226/226 [3:30:32<00:00, 55.90s/it]\n",
            "Saving results to: results/net-EfficientNetB4ST_traindb-dfdc-35-5-10_face-scale_size-224_seed-41_bestval/dfdc-35-5-10_test.pkl\n",
            "Completed!\n"
          ]
        }
      ],
      "source": [
        "!python test_model.py \\\n",
        "--model_path weights/binclass/net-EfficientNetB4ST_traindb-dfdc-35-5-10_face-scale_size-224_seed-41/bestval.pth \\\n",
        "--testsets dfdc-35-5-10 \\\n",
        "--dfdc_faces_df_path df_faces_dfdc/df_faces_dfdc \\\n",
        "--dfdc_faces_dir faces_dfdc \\\n",
        "--device 0 \\\n",
        "--num_video 1000"
      ]
    },
    {
      "cell_type": "code",
      "execution_count": null,
      "metadata": {
        "colab": {
          "base_uri": "https://localhost:8080/",
          "height": 36
        },
        "id": "MzaI9KeQyNs6",
        "outputId": "431ff5c1-ebde-41ed-b9dd-b97b9d29677c"
      },
      "outputs": [
        {
          "data": {
            "application/vnd.google.colaboratory.intrinsic+json": {
              "type": "string"
            },
            "text/plain": [
              "'/content/results_1000_equal_fake_real_imgs_EfficientNetB4ST.zip'"
            ]
          },
          "execution_count": 12,
          "metadata": {},
          "output_type": "execute_result"
        }
      ],
      "source": [
        "import shutil\n",
        "shutil.make_archive('/content/results_1000_equal_fake_real_imgs_EfficientNetB4ST', 'zip', '/content/icpr2020dfdc/results')"
      ]
    },
    {
      "cell_type": "code",
      "execution_count": null,
      "metadata": {
        "colab": {
          "base_uri": "https://localhost:8080/",
          "height": 36
        },
        "id": "zpLcwoe0yNs6",
        "outputId": "549a4306-edc6-4c6b-d098-b2672dadb925"
      },
      "outputs": [
        {
          "data": {
            "application/vnd.google.colaboratory.intrinsic+json": {
              "type": "string"
            },
            "text/plain": [
              "'/content/drive/MyDrive/DEEP_FAKE_DETECTION_2023/TEST_DFDC_part41/EfficientNetB4ST_1000_imgs_equal_fake_real/results_1000_equal_fake_real_imgs_EfficientNetB4ST.zip'"
            ]
          },
          "execution_count": 13,
          "metadata": {},
          "output_type": "execute_result"
        }
      ],
      "source": [
        "# importing required packages\n",
        "from pathlib import Path\n",
        "import shutil\n",
        "import os\n",
        "\n",
        "# defining source and destination\n",
        "# paths\n",
        "src = '/content/results_1000_equal_fake_real_imgs_EfficientNetB4ST.zip'\n",
        "trg = '/content/drive/MyDrive/DEEP_FAKE_DETECTION_2023/TEST_DFDC_part41/EfficientNetB4ST_1000_imgs_equal_fake_real'\n",
        "shutil.copy2(src, trg)"
      ]
    },
    {
      "cell_type": "code",
      "execution_count": null,
      "metadata": {
        "id": "BgY22b-LyNs6"
      },
      "outputs": [],
      "source": [
        "import pickle\n",
        "with open('/content/icpr2020dfdc/results/net-EfficientNetB4ST_traindb-dfdc-35-5-10_face-scale_size-224_seed-41_bestval/dfdc-35-5-10_test.pkl', 'rb') as f:\n",
        "    data = pickle.load(f)"
      ]
    },
    {
      "cell_type": "code",
      "execution_count": null,
      "metadata": {
        "id": "0QEclxFQyNs6"
      },
      "outputs": [],
      "source": [
        "data"
      ]
    },
    {
      "cell_type": "code",
      "execution_count": null,
      "metadata": {
        "id": "eXE6zu_6yEoX"
      },
      "outputs": [],
      "source": []
    },
    {
      "cell_type": "markdown",
      "metadata": {
        "id": "21KmjVMfn7Kt"
      },
      "source": [
        "### Test EfficientNetAutoAttB4 on DFDC"
      ]
    },
    {
      "cell_type": "code",
      "execution_count": null,
      "metadata": {
        "id": "7oERb6PAyElb"
      },
      "outputs": [],
      "source": [
        "import os\n",
        "os.mkdir('/content/icpr2020dfdc/weights/binclass/net-EfficientNetAutoAttB4_traindb-dfdc-35-5-10_face-scale_size-224_seed-41')"
      ]
    },
    {
      "cell_type": "code",
      "execution_count": null,
      "metadata": {
        "id": "8xQEfZ1kyEiZ"
      },
      "outputs": [],
      "source": [
        "import zipfile\n",
        "with zipfile.ZipFile('/content/drive/MyDrive/DEEP_FAKE_DETECTION_2023/PRETRAINED_MODELS/EfficientNetAutoAttB4_DFDC.zip', 'r') as zip_ref:\n",
        "    zip_ref.extractall('/content/icpr2020dfdc/weights/binclass/net-EfficientNetAutoAttB4_traindb-dfdc-35-5-10_face-scale_size-224_seed-41')"
      ]
    },
    {
      "cell_type": "code",
      "execution_count": null,
      "metadata": {
        "id": "0_M5BTu9yEfz",
        "colab": {
          "base_uri": "https://localhost:8080/"
        },
        "outputId": "c8964882-0e31-476a-f69a-4096c028d191"
      },
      "outputs": [
        {
          "output_type": "stream",
          "name": "stdout",
          "text": [
            "/content/icpr2020dfdc\n"
          ]
        }
      ],
      "source": [
        "cd /content/icpr2020dfdc"
      ]
    },
    {
      "cell_type": "code",
      "execution_count": null,
      "metadata": {
        "id": "B7YHc8qwoc54",
        "colab": {
          "base_uri": "https://localhost:8080/"
        },
        "outputId": "8ce49ccb-c981-4cbf-e9d0-f530ae32a3f5"
      },
      "outputs": [
        {
          "output_type": "stream",
          "name": "stdout",
          "text": [
            "Loading model...\n",
            "Loaded pretrained weights for efficientnet-b4\n",
            "<All keys matched successfully>\n",
            "Model loaded!\n",
            "Loading data...\n",
            "\n",
            "##### PREDICT VIDEOS FROM dfdc-35-5-10 VAL #####\n",
            "Real frames: 0\n",
            "Fake frames: 0\n",
            "Real videos: 0\n",
            "Fake videos: 0\n",
            "/usr/local/lib/python3.10/dist-packages/torch/utils/data/dataloader.py:560: UserWarning: This DataLoader will create 6 worker processes in total. Our suggested max number of worker in current system is 2, which is smaller than what this DataLoader is going to create. Please be aware that excessive worker creation might get DataLoader running slow or even freeze, lower the worker number to avoid potential slowness/freeze if necessary.\n",
            "  warnings.warn(_create_warning_msg(\n",
            "0it [00:00, ?it/s]\n",
            "Saving results to: results/net-EfficientNetAutoAttB4_traindb-dfdc-35-5-10_face-scale_size-224_seed-41_bestval/dfdc-35-5-10_val.pkl\n",
            "\n",
            "##### PREDICT VIDEOS FROM dfdc-35-5-10 TEST #####\n",
            "Real frames: 12927\n",
            "Fake frames: 58169\n",
            "Real videos: 404\n",
            "Fake videos: 1818\n",
            "/usr/local/lib/python3.10/dist-packages/torch/utils/data/dataloader.py:560: UserWarning: This DataLoader will create 6 worker processes in total. Our suggested max number of worker in current system is 2, which is smaller than what this DataLoader is going to create. Please be aware that excessive worker creation might get DataLoader running slow or even freeze, lower the worker number to avoid potential slowness/freeze if necessary.\n",
            "  warnings.warn(_create_warning_msg(\n",
            "100% 556/556 [06:12<00:00,  1.49it/s]\n",
            "Saving results to: results/net-EfficientNetAutoAttB4_traindb-dfdc-35-5-10_face-scale_size-224_seed-41_bestval/dfdc-35-5-10_test.pkl\n",
            "Completed!\n"
          ]
        }
      ],
      "source": [
        "!python test_model.py \\\n",
        "--model_path weights/binclass/net-EfficientNetAutoAttB4_traindb-dfdc-35-5-10_face-scale_size-224_seed-41/bestval.pth \\\n",
        "--testsets dfdc-35-5-10 \\\n",
        "--dfdc_faces_df_path df_faces_dfdc/df_faces_dfdc \\\n",
        "--dfdc_faces_dir faces_dfdc \\\n",
        "--device 0\n",
        "#--num_video 1000"
      ]
    },
    {
      "cell_type": "code",
      "execution_count": null,
      "metadata": {
        "colab": {
          "base_uri": "https://localhost:8080/",
          "height": 35
        },
        "id": "3PzVKWMBoc3f",
        "outputId": "c6d0a1cb-d5e1-47f4-8b0a-36d4fc78abfd"
      },
      "outputs": [
        {
          "output_type": "execute_result",
          "data": {
            "text/plain": [
              "'/content/results3_1000_imgs_EfficientNetAutoAttB4.zip'"
            ],
            "application/vnd.google.colaboratory.intrinsic+json": {
              "type": "string"
            }
          },
          "metadata": {},
          "execution_count": 15
        }
      ],
      "source": [
        "import shutil\n",
        "shutil.make_archive('/content/results3_1000_imgs_EfficientNetAutoAttB4', 'zip', '/content/icpr2020dfdc/results')"
      ]
    },
    {
      "cell_type": "code",
      "execution_count": null,
      "metadata": {
        "colab": {
          "base_uri": "https://localhost:8080/",
          "height": 52
        },
        "id": "nS-Z1Xa7oc0Y",
        "outputId": "5c78d1ac-6ef8-4dd6-da98-cdf2bca1d075"
      },
      "outputs": [
        {
          "output_type": "execute_result",
          "data": {
            "text/plain": [
              "'/content/drive/MyDrive/DEEP_FAKE_DETECTION_2023/TEST_DFDC_part41/EfficientNetAutoAttB4_1000_imgs_equal_fake_real/results3_1000_imgs_EfficientNetAutoAttB4.zip'"
            ],
            "application/vnd.google.colaboratory.intrinsic+json": {
              "type": "string"
            }
          },
          "metadata": {},
          "execution_count": 16
        }
      ],
      "source": [
        "# importing required packages\n",
        "from pathlib import Path\n",
        "import shutil\n",
        "import os\n",
        "\n",
        "# defining source and destination\n",
        "# paths\n",
        "src = '/content/results3_1000_imgs_EfficientNetAutoAttB4.zip'\n",
        "trg = '/content/drive/MyDrive/DEEP_FAKE_DETECTION_2023/TEST_DFDC_part41/EfficientNetAutoAttB4_1000_imgs_equal_fake_real'\n",
        "shutil.copy2(src, trg)"
      ]
    },
    {
      "cell_type": "code",
      "execution_count": null,
      "metadata": {
        "id": "DSDdzW5kocxz"
      },
      "outputs": [],
      "source": [
        "import pickle\n",
        "with open('/content/icpr2020dfdc/results/net-EfficientNetAutoAttB4_traindb-dfdc-35-5-10_face-scale_size-224_seed-41_bestval/dfdc-35-5-10_test.pkl', 'rb') as f:\n",
        "    data = pickle.load(f)"
      ]
    },
    {
      "cell_type": "code",
      "execution_count": null,
      "metadata": {
        "id": "nMfkdVtlocut"
      },
      "outputs": [],
      "source": [
        "data"
      ]
    },
    {
      "cell_type": "code",
      "execution_count": null,
      "metadata": {
        "id": "HIzB6w-oyEc7"
      },
      "outputs": [],
      "source": []
    },
    {
      "cell_type": "markdown",
      "metadata": {
        "id": "RB0K2Q78v0JK"
      },
      "source": [
        "### Test EfficientNetAutoAttB4 on DFDC (triplet)"
      ]
    },
    {
      "cell_type": "code",
      "execution_count": null,
      "metadata": {
        "id": "_YYXLSMKyEX5"
      },
      "outputs": [],
      "source": [
        "import os\n",
        "os.mkdir('/content/icpr2020dfdc/weights/binclass/net-EfficientNetAutoAttB4ST_traindb-dfdc-35-5-10_face-scale_size-224_seed-41')"
      ]
    },
    {
      "cell_type": "code",
      "execution_count": null,
      "metadata": {
        "id": "PMIi49wxv5p7"
      },
      "outputs": [],
      "source": [
        "import zipfile\n",
        "with zipfile.ZipFile('/content/drive/MyDrive/DEEP_FAKE_DETECTION_2023/PRETRAINED_MODELS/EfficientNetAutoAttB4ST_DFDC.zip', 'r') as zip_ref:\n",
        "    zip_ref.extractall('/content/icpr2020dfdc/weights/binclass/net-EfficientNetAutoAttB4ST_traindb-dfdc-35-5-10_face-scale_size-224_seed-41')"
      ]
    },
    {
      "cell_type": "code",
      "execution_count": null,
      "metadata": {
        "colab": {
          "base_uri": "https://localhost:8080/"
        },
        "id": "S_ac5Trhv5nV",
        "outputId": "bbb23309-8b79-43a1-ee14-5e07ad2b44ae"
      },
      "outputs": [
        {
          "name": "stdout",
          "output_type": "stream",
          "text": [
            "/content/icpr2020dfdc\n"
          ]
        }
      ],
      "source": [
        "cd /content/icpr2020dfdc"
      ]
    },
    {
      "cell_type": "code",
      "execution_count": null,
      "metadata": {
        "colab": {
          "base_uri": "https://localhost:8080/"
        },
        "id": "xFazUzhTv5kj",
        "outputId": "b44ec4a3-b640-42b4-a7da-5ea7d0dbed8e"
      },
      "outputs": [
        {
          "name": "stdout",
          "output_type": "stream",
          "text": [
            "Loading model...\n",
            "Downloading: \"https://github.com/lukemelas/EfficientNet-PyTorch/releases/download/1.0/efficientnet-b4-6ed6700e.pth\" to /root/.cache/torch/hub/checkpoints/efficientnet-b4-6ed6700e.pth\n",
            "100% 74.4M/74.4M [00:00<00:00, 230MB/s]\n",
            "Loaded pretrained weights for efficientnet-b4\n",
            "<All keys matched successfully>\n",
            "Model loaded!\n",
            "Loading data...\n",
            "\n",
            "##### PREDICT VIDEOS FROM dfdc-35-5-10 VAL #####\n",
            "Real frames: 0\n",
            "Fake frames: 0\n",
            "Real videos: 0\n",
            "Fake videos: 0\n",
            "/usr/local/lib/python3.10/dist-packages/torch/utils/data/dataloader.py:560: UserWarning: This DataLoader will create 6 worker processes in total. Our suggested max number of worker in current system is 2, which is smaller than what this DataLoader is going to create. Please be aware that excessive worker creation might get DataLoader running slow or even freeze, lower the worker number to avoid potential slowness/freeze if necessary.\n",
            "  warnings.warn(_create_warning_msg(\n",
            "0it [00:00, ?it/s]\n",
            "Saving results to: results/net-EfficientNetAutoAttB4ST_traindb-dfdc-35-5-10_face-scale_size-224_seed-41_bestval/dfdc-35-5-10_val.pkl\n",
            "\n",
            "##### PREDICT VIDEOS FROM dfdc-35-5-10 TEST #####\n",
            "Real frames: 12927\n",
            "Fake frames: 15996\n",
            "Real videos: 404\n",
            "Fake videos: 500\n",
            "/usr/local/lib/python3.10/dist-packages/torch/utils/data/dataloader.py:560: UserWarning: This DataLoader will create 6 worker processes in total. Our suggested max number of worker in current system is 2, which is smaller than what this DataLoader is going to create. Please be aware that excessive worker creation might get DataLoader running slow or even freeze, lower the worker number to avoid potential slowness/freeze if necessary.\n",
            "  warnings.warn(_create_warning_msg(\n",
            "100% 226/226 [3:18:48<00:00, 52.78s/it]\n",
            "Saving results to: results/net-EfficientNetAutoAttB4ST_traindb-dfdc-35-5-10_face-scale_size-224_seed-41_bestval/dfdc-35-5-10_test.pkl\n",
            "Completed!\n"
          ]
        }
      ],
      "source": [
        "!python test_model.py \\\n",
        "--model_path weights/binclass/net-EfficientNetAutoAttB4ST_traindb-dfdc-35-5-10_face-scale_size-224_seed-41/bestval.pth \\\n",
        "--testsets dfdc-35-5-10 \\\n",
        "--dfdc_faces_df_path df_faces_dfdc/df_faces_dfdc \\\n",
        "--dfdc_faces_dir faces_dfdc \\\n",
        "--device 0 \\\n",
        "--num_video 1000"
      ]
    },
    {
      "cell_type": "code",
      "execution_count": null,
      "metadata": {
        "colab": {
          "base_uri": "https://localhost:8080/",
          "height": 36
        },
        "id": "GGp_cPXqv5h4",
        "outputId": "0a7467c9-90a4-43aa-8ae1-207198f23fb6"
      },
      "outputs": [
        {
          "data": {
            "application/vnd.google.colaboratory.intrinsic+json": {
              "type": "string"
            },
            "text/plain": [
              "'/content/results_1000_imgs_EfficientNetAutoAttB4ST.zip'"
            ]
          },
          "execution_count": 12,
          "metadata": {},
          "output_type": "execute_result"
        }
      ],
      "source": [
        "import shutil\n",
        "shutil.make_archive('/content/results_1000_imgs_EfficientNetAutoAttB4ST', 'zip', '/content/icpr2020dfdc/results')"
      ]
    },
    {
      "cell_type": "code",
      "execution_count": null,
      "metadata": {
        "colab": {
          "base_uri": "https://localhost:8080/",
          "height": 53
        },
        "id": "09eu-FJSv5fT",
        "outputId": "a8b55a49-bab5-4344-d95e-2ee10717d92a"
      },
      "outputs": [
        {
          "data": {
            "application/vnd.google.colaboratory.intrinsic+json": {
              "type": "string"
            },
            "text/plain": [
              "'/content/drive/MyDrive/DEEP_FAKE_DETECTION_2023/TEST_DFDC_part41/EfficientNetAutoAttB4ST_1000_imgs_equal_real_fake/results_1000_imgs_EfficientNetAutoAttB4ST.zip'"
            ]
          },
          "execution_count": 13,
          "metadata": {},
          "output_type": "execute_result"
        }
      ],
      "source": [
        "# importing required packages\n",
        "from pathlib import Path\n",
        "import shutil\n",
        "import os\n",
        "\n",
        "# defining source and destination\n",
        "# paths\n",
        "src = '/content/results_1000_imgs_EfficientNetAutoAttB4ST.zip'\n",
        "trg = '/content/drive/MyDrive/DEEP_FAKE_DETECTION_2023/TEST_DFDC_part41/EfficientNetAutoAttB4ST_1000_imgs_equal_real_fake'\n",
        "shutil.copy2(src, trg)"
      ]
    },
    {
      "cell_type": "code",
      "execution_count": null,
      "metadata": {
        "id": "5s6wihMJv5LY"
      },
      "outputs": [],
      "source": []
    },
    {
      "cell_type": "code",
      "execution_count": null,
      "metadata": {
        "id": "GQA8vevYg-Ez"
      },
      "outputs": [],
      "source": []
    }
  ],
  "metadata": {
    "accelerator": "GPU",
    "colab": {
      "collapsed_sections": [
        "Z4hUSWBphQ3n",
        "RlP7Xeh9g2Ax",
        "RqVc8Fr9hWMQ",
        "FonByHGKgpVh",
        "ZqkPIbZghG2w",
        "axkWLJ3ByE7x",
        "21KmjVMfn7Kt",
        "RB0K2Q78v0JK"
      ],
      "provenance": [],
      "gpuType": "T4"
    },
    "kernelspec": {
      "display_name": "Python 3",
      "name": "python3"
    },
    "language_info": {
      "codemirror_mode": {
        "name": "ipython",
        "version": 3
      },
      "file_extension": ".py",
      "mimetype": "text/x-python",
      "name": "python",
      "nbconvert_exporter": "python",
      "pygments_lexer": "ipython3",
      "version": "3.7.0"
    },
    "pycharm": {
      "stem_cell": {
        "cell_type": "raw",
        "metadata": {
          "collapsed": false
        },
        "source": []
      }
    }
  },
  "nbformat": 4,
  "nbformat_minor": 0
}